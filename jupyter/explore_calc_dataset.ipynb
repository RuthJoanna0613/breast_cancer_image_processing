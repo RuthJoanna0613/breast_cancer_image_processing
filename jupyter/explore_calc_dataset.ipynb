{
 "cells": [
  {
   "cell_type": "code",
   "execution_count": 1,
   "id": "1ca54f93-54c1-40d1-b503-fd8db4570cdf",
   "metadata": {
    "tags": []
   },
   "outputs": [],
   "source": [
    "import sys\n",
    "sys.path.append(\"../\")"
   ]
  },
  {
   "cell_type": "code",
   "execution_count": 17,
   "id": "5f50586c-cdb9-4946-9120-09aa2f1f5d1c",
   "metadata": {
    "tags": []
   },
   "outputs": [
    {
     "name": "stderr",
     "output_type": "stream",
     "text": [
      "2023-05-01 21:35:05.241529: I tensorflow/core/platform/cpu_feature_guard.cc:182] This TensorFlow binary is optimized to use available CPU instructions in performance-critical operations.\n",
      "To enable the following instructions: SSE4.1 SSE4.2, in other operations, rebuild TensorFlow with the appropriate compiler flags.\n"
     ]
    }
   ],
   "source": [
    "import os\n",
    "import cv2\n",
    "import numpy as np\n",
    "import pandas as pd\n",
    "import tensorflow as tf\n",
    "import matplotlib.pyplot as plt"
   ]
  },
  {
   "cell_type": "code",
   "execution_count": 3,
   "id": "8faec2d2-8848-4d13-8c88-1832bc16966e",
   "metadata": {
    "tags": []
   },
   "outputs": [],
   "source": [
    "calc_train_dataset = pd.read_csv(\"../dataset/csv/calc_case_description_train_set.csv\")\n",
    "calc_test_dataset = pd.read_csv(\"../dataset/csv/calc_case_description_test_set.csv\")\n",
    "dicom_dataset = pd.read_csv(\"../dataset/csv/dicom_info.csv\")"
   ]
  },
  {
   "cell_type": "code",
   "execution_count": 4,
   "id": "03ebf5a5-0881-4530-95bd-c92f7300a526",
   "metadata": {
    "tags": []
   },
   "outputs": [],
   "source": [
    "image_paths = calc_train_dataset[\"image file path\"].values\n",
    "patient_ids = []\n",
    "\n",
    "for image_path in image_paths:\n",
    "    path = os.path.normpath(image_path)\n",
    "    patient_ids.append(path.split(os.sep)[0])\n",
    "    \n",
    "calc_train_dataset[\"PatientID\"] = patient_ids"
   ]
  },
  {
   "cell_type": "code",
   "execution_count": 5,
   "id": "85086f70-c581-41b4-b1ef-44a1740c1fac",
   "metadata": {
    "tags": []
   },
   "outputs": [],
   "source": [
    "image_paths = calc_test_dataset[\"image file path\"].values\n",
    "patient_ids = []\n",
    "\n",
    "for image_path in image_paths:\n",
    "    path = os.path.normpath(image_path)\n",
    "    patient_ids.append(path.split(os.sep)[0])\n",
    "\n",
    "calc_test_dataset[\"PatientID\"] = patient_ids"
   ]
  },
  {
   "cell_type": "code",
   "execution_count": 6,
   "id": "da29cd36-d3a0-477e-bdd1-4247660f3368",
   "metadata": {
    "tags": []
   },
   "outputs": [],
   "source": [
    "calc_train_dataset = calc_train_dataset.merge(dicom_dataset[[\"PatientID\", \"image_path\"]], on='PatientID', how='inner')\n",
    "calc_test_dataset = calc_test_dataset.merge(dicom_dataset[[\"PatientID\", \"image_path\"]], on='PatientID', how='inner')"
   ]
  },
  {
   "cell_type": "code",
   "execution_count": 7,
   "id": "0e4c8618-6cd1-4ec2-8475-f380aefd2c7f",
   "metadata": {
    "tags": []
   },
   "outputs": [],
   "source": [
    "image_paths = calc_train_dataset[\"image_path\"].values\n",
    "image_cropped_paths = []\n",
    "\n",
    "for image_path in image_paths:\n",
    "    path = os.path.normpath(image_path)\n",
    "    x = path.split(os.sep)\n",
    "    x[0] = \"../dataset\"\n",
    "    image_cropped_paths.append(os.path.join(*x))\n",
    "    \n",
    "calc_train_dataset[\"fixed_image_paths\"] = image_cropped_paths"
   ]
  },
  {
   "cell_type": "code",
   "execution_count": 8,
   "id": "fc73eb14-ea8d-4ab1-a3ae-29ba9c13fbe4",
   "metadata": {
    "tags": []
   },
   "outputs": [],
   "source": [
    "image_paths = calc_test_dataset[\"image_path\"].values\n",
    "image_cropped_paths = []\n",
    "\n",
    "for image_path in image_paths:\n",
    "    path = os.path.normpath(image_path)\n",
    "    x = path.split(os.sep)\n",
    "    x[0] = \"../dataset\"\n",
    "    image_cropped_paths.append(os.path.join(*x))\n",
    "    \n",
    "calc_test_dataset[\"fixed_image_paths\"] = image_cropped_paths"
   ]
  },
  {
   "cell_type": "markdown",
   "id": "8801c9fd-d5d2-488e-8172-c2bed3daa88e",
   "metadata": {},
   "source": [
    "## Creating unprocessed dataset"
   ]
  },
  {
   "cell_type": "code",
   "execution_count": 9,
   "id": "a44841c4-06ce-4b32-9174-bb0c473e4cb8",
   "metadata": {
    "tags": []
   },
   "outputs": [],
   "source": [
    "new_dataset_train_path = \"../calc_dataset/train/\"\n",
    "new_dataset_val_path = \"../calc_dataset/validation/\"\n",
    "\n",
    "if not os.path.exists(new_dataset_train_path):\n",
    "    os.makedirs(new_dataset_train_path+'MALIGNANT')\n",
    "    os.makedirs(new_dataset_train_path+'BENIGN')\n",
    "if not os.path.exists(new_dataset_val_path):\n",
    "    os.makedirs(new_dataset_val_path+'MALIGNANT')\n",
    "    os.makedirs(new_dataset_val_path+'BENIGN')"
   ]
  },
  {
   "cell_type": "code",
   "execution_count": 10,
   "id": "ba88ce1c-b1cd-4cf5-8896-573785873632",
   "metadata": {
    "tags": []
   },
   "outputs": [],
   "source": [
    "train_dataset = calc_train_dataset[[\"PatientID\",\n",
    "                                    \"pathology\",\n",
    "                                    \"fixed_image_paths\"]].loc[calc_train_dataset['pathology'].isin([\"MALIGNANT\",\n",
    "                                                                                                    \"BENIGN\"])]\n",
    "\n",
    "test_dataset = calc_test_dataset[[\"PatientID\",\n",
    "                                  \"pathology\", \n",
    "                                  \"fixed_image_paths\"]].loc[calc_test_dataset['pathology'].isin([\"MALIGNANT\", \n",
    "                                                                                                 \"BENIGN\"])]"
   ]
  },
  {
   "cell_type": "code",
   "execution_count": 13,
   "id": "4e47a5dc-3da3-4cbf-96e7-b69bae3523a6",
   "metadata": {
    "tags": []
   },
   "outputs": [],
   "source": [
    "images = []\n",
    "for p_id, label, image_path in train_dataset.values:\n",
    "    image = cv2.imread(image_path, 0)\n",
    "    save_dir = os.path.join(new_dataset_train_path, label, p_id+'.jpg')\n",
    "    cv2.imwrite(save_dir, image)"
   ]
  },
  {
   "cell_type": "code",
   "execution_count": 14,
   "id": "c0222eaa-ae70-4b5d-bdf5-458c6278b4ab",
   "metadata": {
    "tags": []
   },
   "outputs": [],
   "source": [
    "for p_id, label, image_path in test_dataset.values:\n",
    "    image = cv2.imread(image_path, 0)\n",
    "    save_dir = os.path.join(new_dataset_val_path, label, p_id+'.jpg')\n",
    "    cv2.imwrite(save_dir, image)"
   ]
  },
  {
   "cell_type": "markdown",
   "id": "fbb000c2-3ebc-4e6c-a31e-e68b5300794c",
   "metadata": {},
   "source": [
    "## Creating preprocessed dataset"
   ]
  },
  {
   "cell_type": "code",
   "execution_count": 15,
   "id": "ecfec7c6-b4f8-41e2-af36-3b5aff4606f0",
   "metadata": {
    "tags": []
   },
   "outputs": [],
   "source": [
    "new_dataset_train_path = \"../calc_preprocess_dataset/train/\"\n",
    "new_dataset_val_path = \"../calc_preprocess_dataset/validation/\"\n",
    "\n",
    "if not os.path.exists(new_dataset_train_path):\n",
    "    os.makedirs(new_dataset_train_path+'MALIGNANT')\n",
    "    os.makedirs(new_dataset_train_path+'BENIGN')\n",
    "if not os.path.exists(new_dataset_val_path):\n",
    "    os.makedirs(new_dataset_val_path+'MALIGNANT')\n",
    "    os.makedirs(new_dataset_val_path+'BENIGN')"
   ]
  },
  {
   "cell_type": "code",
   "execution_count": 18,
   "id": "6348409c-549d-4f42-8e87-f282e5277736",
   "metadata": {
    "tags": []
   },
   "outputs": [
    {
     "name": "stderr",
     "output_type": "stream",
     "text": [
      "2023-05-01 21:35:07.571908: I tensorflow/core/common_runtime/pluggable_device/pluggable_device_factory.cc:306] Could not identify NUMA node of platform GPU ID 0, defaulting to 0. Your kernel may not have been built with NUMA support.\n",
      "2023-05-01 21:35:07.573813: I tensorflow/core/common_runtime/pluggable_device/pluggable_device_factory.cc:272] Created TensorFlow device (/job:localhost/replica:0/task:0/device:GPU:0 with 0 MB memory) -> physical PluggableDevice (device: 0, name: METAL, pci bus id: <undefined>)\n"
     ]
    },
    {
     "name": "stdout",
     "output_type": "stream",
     "text": [
      "Metal device set to: Apple M1\n"
     ]
    }
   ],
   "source": [
    "images = []\n",
    "clahe=cv2.createCLAHE(clipLimit=40)\n",
    "\n",
    "for p_id, label, image_path in train_dataset.values:\n",
    "    image = cv2.imread(image_path, 0)\n",
    "    gray_img_eqhist=cv2.equalizeHist(image)\n",
    "    gray_clahe_image = cv2.cvtColor(clahe.apply(gray_img_eqhist), cv2.COLOR_GRAY2RGB)\n",
    "    image = tf.image.resize(gray_clahe_image, (229, 229)).numpy().astype(\"uint8\")\n",
    "    save_dir = os.path.join(new_dataset_train_path, label, p_id+'.jpg')\n",
    "    cv2.imwrite(save_dir, image)"
   ]
  },
  {
   "cell_type": "code",
   "execution_count": 19,
   "id": "ec434b98-863f-46df-afe7-43e584a0768d",
   "metadata": {
    "tags": []
   },
   "outputs": [],
   "source": [
    "for p_id, label, image_path in test_dataset.values:\n",
    "    image = cv2.imread(image_path, 0)\n",
    "    gray_img_eqhist=cv2.equalizeHist(image)\n",
    "    gray_clahe_image = cv2.cvtColor(clahe.apply(gray_img_eqhist), cv2.COLOR_GRAY2RGB)\n",
    "    image = tf.image.resize(gray_clahe_image, (229, 229)).numpy().astype(\"uint8\")\n",
    "    save_dir = os.path.join(new_dataset_val_path, label, p_id+'.jpg')\n",
    "    cv2.imwrite(save_dir, image)"
   ]
  },
  {
   "cell_type": "code",
   "execution_count": 32,
   "id": "367ea20d-e8a3-41fc-93ba-e21210b37eea",
   "metadata": {
    "tags": []
   },
   "outputs": [
    {
     "data": {
      "text/html": [
       "<div>\n",
       "<style scoped>\n",
       "    .dataframe tbody tr th:only-of-type {\n",
       "        vertical-align: middle;\n",
       "    }\n",
       "\n",
       "    .dataframe tbody tr th {\n",
       "        vertical-align: top;\n",
       "    }\n",
       "\n",
       "    .dataframe thead th {\n",
       "        text-align: right;\n",
       "    }\n",
       "</style>\n",
       "<table border=\"1\" class=\"dataframe\">\n",
       "  <thead>\n",
       "    <tr style=\"text-align: right;\">\n",
       "      <th></th>\n",
       "      <th>patient_id</th>\n",
       "      <th>breast density</th>\n",
       "      <th>left or right breast</th>\n",
       "      <th>image view</th>\n",
       "      <th>abnormality id</th>\n",
       "      <th>abnormality type</th>\n",
       "      <th>calc type</th>\n",
       "      <th>calc distribution</th>\n",
       "      <th>assessment</th>\n",
       "      <th>pathology</th>\n",
       "      <th>subtlety</th>\n",
       "      <th>image file path</th>\n",
       "      <th>cropped image file path</th>\n",
       "      <th>ROI mask file path</th>\n",
       "      <th>PatientID</th>\n",
       "      <th>image_path</th>\n",
       "      <th>fixed_image_paths</th>\n",
       "    </tr>\n",
       "  </thead>\n",
       "  <tbody>\n",
       "    <tr>\n",
       "      <th>0</th>\n",
       "      <td>P_00005</td>\n",
       "      <td>3</td>\n",
       "      <td>RIGHT</td>\n",
       "      <td>CC</td>\n",
       "      <td>1</td>\n",
       "      <td>calcification</td>\n",
       "      <td>AMORPHOUS</td>\n",
       "      <td>CLUSTERED</td>\n",
       "      <td>3</td>\n",
       "      <td>MALIGNANT</td>\n",
       "      <td>3</td>\n",
       "      <td>Calc-Training_P_00005_RIGHT_CC/1.3.6.1.4.1.959...</td>\n",
       "      <td>Calc-Training_P_00005_RIGHT_CC_1/1.3.6.1.4.1.9...</td>\n",
       "      <td>Calc-Training_P_00005_RIGHT_CC_1/1.3.6.1.4.1.9...</td>\n",
       "      <td>Calc-Training_P_00005_RIGHT_CC</td>\n",
       "      <td>CBIS-DDSM/jpeg/1.3.6.1.4.1.9590.100.1.2.474143...</td>\n",
       "      <td>../dataset/jpeg/1.3.6.1.4.1.9590.100.1.2.47414...</td>\n",
       "    </tr>\n",
       "    <tr>\n",
       "      <th>1</th>\n",
       "      <td>P_00005</td>\n",
       "      <td>3</td>\n",
       "      <td>RIGHT</td>\n",
       "      <td>MLO</td>\n",
       "      <td>1</td>\n",
       "      <td>calcification</td>\n",
       "      <td>AMORPHOUS</td>\n",
       "      <td>CLUSTERED</td>\n",
       "      <td>3</td>\n",
       "      <td>MALIGNANT</td>\n",
       "      <td>3</td>\n",
       "      <td>Calc-Training_P_00005_RIGHT_MLO/1.3.6.1.4.1.95...</td>\n",
       "      <td>Calc-Training_P_00005_RIGHT_MLO_1/1.3.6.1.4.1....</td>\n",
       "      <td>Calc-Training_P_00005_RIGHT_MLO_1/1.3.6.1.4.1....</td>\n",
       "      <td>Calc-Training_P_00005_RIGHT_MLO</td>\n",
       "      <td>CBIS-DDSM/jpeg/1.3.6.1.4.1.9590.100.1.2.250596...</td>\n",
       "      <td>../dataset/jpeg/1.3.6.1.4.1.9590.100.1.2.25059...</td>\n",
       "    </tr>\n",
       "    <tr>\n",
       "      <th>2</th>\n",
       "      <td>P_00007</td>\n",
       "      <td>4</td>\n",
       "      <td>LEFT</td>\n",
       "      <td>CC</td>\n",
       "      <td>1</td>\n",
       "      <td>calcification</td>\n",
       "      <td>PLEOMORPHIC</td>\n",
       "      <td>LINEAR</td>\n",
       "      <td>4</td>\n",
       "      <td>BENIGN</td>\n",
       "      <td>4</td>\n",
       "      <td>Calc-Training_P_00007_LEFT_CC/1.3.6.1.4.1.9590...</td>\n",
       "      <td>Calc-Training_P_00007_LEFT_CC_1/1.3.6.1.4.1.95...</td>\n",
       "      <td>Calc-Training_P_00007_LEFT_CC_1/1.3.6.1.4.1.95...</td>\n",
       "      <td>Calc-Training_P_00007_LEFT_CC</td>\n",
       "      <td>CBIS-DDSM/jpeg/1.3.6.1.4.1.9590.100.1.2.228699...</td>\n",
       "      <td>../dataset/jpeg/1.3.6.1.4.1.9590.100.1.2.22869...</td>\n",
       "    </tr>\n",
       "    <tr>\n",
       "      <th>3</th>\n",
       "      <td>P_00007</td>\n",
       "      <td>4</td>\n",
       "      <td>LEFT</td>\n",
       "      <td>MLO</td>\n",
       "      <td>1</td>\n",
       "      <td>calcification</td>\n",
       "      <td>PLEOMORPHIC</td>\n",
       "      <td>LINEAR</td>\n",
       "      <td>4</td>\n",
       "      <td>BENIGN</td>\n",
       "      <td>4</td>\n",
       "      <td>Calc-Training_P_00007_LEFT_MLO/1.3.6.1.4.1.959...</td>\n",
       "      <td>Calc-Training_P_00007_LEFT_MLO_1/1.3.6.1.4.1.9...</td>\n",
       "      <td>Calc-Training_P_00007_LEFT_MLO_1/1.3.6.1.4.1.9...</td>\n",
       "      <td>Calc-Training_P_00007_LEFT_MLO</td>\n",
       "      <td>CBIS-DDSM/jpeg/1.3.6.1.4.1.9590.100.1.2.104743...</td>\n",
       "      <td>../dataset/jpeg/1.3.6.1.4.1.9590.100.1.2.10474...</td>\n",
       "    </tr>\n",
       "    <tr>\n",
       "      <th>4</th>\n",
       "      <td>P_00008</td>\n",
       "      <td>1</td>\n",
       "      <td>LEFT</td>\n",
       "      <td>CC</td>\n",
       "      <td>1</td>\n",
       "      <td>calcification</td>\n",
       "      <td>NaN</td>\n",
       "      <td>REGIONAL</td>\n",
       "      <td>2</td>\n",
       "      <td>BENIGN_WITHOUT_CALLBACK</td>\n",
       "      <td>3</td>\n",
       "      <td>Calc-Training_P_00008_LEFT_CC/1.3.6.1.4.1.9590...</td>\n",
       "      <td>Calc-Training_P_00008_LEFT_CC_1/1.3.6.1.4.1.95...</td>\n",
       "      <td>Calc-Training_P_00008_LEFT_CC_1/1.3.6.1.4.1.95...</td>\n",
       "      <td>Calc-Training_P_00008_LEFT_CC</td>\n",
       "      <td>CBIS-DDSM/jpeg/1.3.6.1.4.1.9590.100.1.2.406725...</td>\n",
       "      <td>../dataset/jpeg/1.3.6.1.4.1.9590.100.1.2.40672...</td>\n",
       "    </tr>\n",
       "    <tr>\n",
       "      <th>...</th>\n",
       "      <td>...</td>\n",
       "      <td>...</td>\n",
       "      <td>...</td>\n",
       "      <td>...</td>\n",
       "      <td>...</td>\n",
       "      <td>...</td>\n",
       "      <td>...</td>\n",
       "      <td>...</td>\n",
       "      <td>...</td>\n",
       "      <td>...</td>\n",
       "      <td>...</td>\n",
       "      <td>...</td>\n",
       "      <td>...</td>\n",
       "      <td>...</td>\n",
       "      <td>...</td>\n",
       "      <td>...</td>\n",
       "      <td>...</td>\n",
       "    </tr>\n",
       "    <tr>\n",
       "      <th>1541</th>\n",
       "      <td>P_02566</td>\n",
       "      <td>2</td>\n",
       "      <td>RIGHT</td>\n",
       "      <td>MLO</td>\n",
       "      <td>1</td>\n",
       "      <td>calcification</td>\n",
       "      <td>AMORPHOUS-PLEOMORPHIC</td>\n",
       "      <td>SEGMENTAL</td>\n",
       "      <td>5</td>\n",
       "      <td>MALIGNANT</td>\n",
       "      <td>5</td>\n",
       "      <td>Calc-Training_P_02566_RIGHT_MLO/1.3.6.1.4.1.95...</td>\n",
       "      <td>Calc-Training_P_02566_RIGHT_MLO_1/1.3.6.1.4.1....</td>\n",
       "      <td>Calc-Training_P_02566_RIGHT_MLO_1/1.3.6.1.4.1....</td>\n",
       "      <td>Calc-Training_P_02566_RIGHT_MLO</td>\n",
       "      <td>CBIS-DDSM/jpeg/1.3.6.1.4.1.9590.100.1.2.215164...</td>\n",
       "      <td>../dataset/jpeg/1.3.6.1.4.1.9590.100.1.2.21516...</td>\n",
       "    </tr>\n",
       "    <tr>\n",
       "      <th>1542</th>\n",
       "      <td>P_02572</td>\n",
       "      <td>2</td>\n",
       "      <td>LEFT</td>\n",
       "      <td>CC</td>\n",
       "      <td>1</td>\n",
       "      <td>calcification</td>\n",
       "      <td>AMORPHOUS</td>\n",
       "      <td>CLUSTERED</td>\n",
       "      <td>0</td>\n",
       "      <td>MALIGNANT</td>\n",
       "      <td>2</td>\n",
       "      <td>Calc-Training_P_02572_LEFT_CC/1.3.6.1.4.1.9590...</td>\n",
       "      <td>Calc-Training_P_02572_LEFT_CC_1/1.3.6.1.4.1.95...</td>\n",
       "      <td>Calc-Training_P_02572_LEFT_CC_1/1.3.6.1.4.1.95...</td>\n",
       "      <td>Calc-Training_P_02572_LEFT_CC</td>\n",
       "      <td>CBIS-DDSM/jpeg/1.3.6.1.4.1.9590.100.1.2.398227...</td>\n",
       "      <td>../dataset/jpeg/1.3.6.1.4.1.9590.100.1.2.39822...</td>\n",
       "    </tr>\n",
       "    <tr>\n",
       "      <th>1543</th>\n",
       "      <td>P_02572</td>\n",
       "      <td>2</td>\n",
       "      <td>LEFT</td>\n",
       "      <td>MLO</td>\n",
       "      <td>1</td>\n",
       "      <td>calcification</td>\n",
       "      <td>AMORPHOUS</td>\n",
       "      <td>CLUSTERED</td>\n",
       "      <td>0</td>\n",
       "      <td>MALIGNANT</td>\n",
       "      <td>2</td>\n",
       "      <td>Calc-Training_P_02572_LEFT_MLO/1.3.6.1.4.1.959...</td>\n",
       "      <td>Calc-Training_P_02572_LEFT_MLO_1/1.3.6.1.4.1.9...</td>\n",
       "      <td>Calc-Training_P_02572_LEFT_MLO_1/1.3.6.1.4.1.9...</td>\n",
       "      <td>Calc-Training_P_02572_LEFT_MLO</td>\n",
       "      <td>CBIS-DDSM/jpeg/1.3.6.1.4.1.9590.100.1.2.832140...</td>\n",
       "      <td>../dataset/jpeg/1.3.6.1.4.1.9590.100.1.2.83214...</td>\n",
       "    </tr>\n",
       "    <tr>\n",
       "      <th>1544</th>\n",
       "      <td>P_02584</td>\n",
       "      <td>1</td>\n",
       "      <td>LEFT</td>\n",
       "      <td>CC</td>\n",
       "      <td>1</td>\n",
       "      <td>calcification</td>\n",
       "      <td>PLEOMORPHIC</td>\n",
       "      <td>SEGMENTAL</td>\n",
       "      <td>0</td>\n",
       "      <td>BENIGN</td>\n",
       "      <td>4</td>\n",
       "      <td>Calc-Training_P_02584_LEFT_CC/1.3.6.1.4.1.9590...</td>\n",
       "      <td>Calc-Training_P_02584_LEFT_CC_1/1.3.6.1.4.1.95...</td>\n",
       "      <td>Calc-Training_P_02584_LEFT_CC_1/1.3.6.1.4.1.95...</td>\n",
       "      <td>Calc-Training_P_02584_LEFT_CC</td>\n",
       "      <td>CBIS-DDSM/jpeg/1.3.6.1.4.1.9590.100.1.2.114030...</td>\n",
       "      <td>../dataset/jpeg/1.3.6.1.4.1.9590.100.1.2.11403...</td>\n",
       "    </tr>\n",
       "    <tr>\n",
       "      <th>1545</th>\n",
       "      <td>P_02584</td>\n",
       "      <td>1</td>\n",
       "      <td>LEFT</td>\n",
       "      <td>MLO</td>\n",
       "      <td>1</td>\n",
       "      <td>calcification</td>\n",
       "      <td>PLEOMORPHIC</td>\n",
       "      <td>SEGMENTAL</td>\n",
       "      <td>0</td>\n",
       "      <td>BENIGN</td>\n",
       "      <td>4</td>\n",
       "      <td>Calc-Training_P_02584_LEFT_MLO/1.3.6.1.4.1.959...</td>\n",
       "      <td>Calc-Training_P_02584_LEFT_MLO_1/1.3.6.1.4.1.9...</td>\n",
       "      <td>Calc-Training_P_02584_LEFT_MLO_1/1.3.6.1.4.1.9...</td>\n",
       "      <td>Calc-Training_P_02584_LEFT_MLO</td>\n",
       "      <td>CBIS-DDSM/jpeg/1.3.6.1.4.1.9590.100.1.2.197835...</td>\n",
       "      <td>../dataset/jpeg/1.3.6.1.4.1.9590.100.1.2.19783...</td>\n",
       "    </tr>\n",
       "  </tbody>\n",
       "</table>\n",
       "<p>1546 rows × 17 columns</p>\n",
       "</div>"
      ],
      "text/plain": [
       "     patient_id  breast density left or right breast image view   \n",
       "0       P_00005               3                RIGHT         CC  \\\n",
       "1       P_00005               3                RIGHT        MLO   \n",
       "2       P_00007               4                 LEFT         CC   \n",
       "3       P_00007               4                 LEFT        MLO   \n",
       "4       P_00008               1                 LEFT         CC   \n",
       "...         ...             ...                  ...        ...   \n",
       "1541    P_02566               2                RIGHT        MLO   \n",
       "1542    P_02572               2                 LEFT         CC   \n",
       "1543    P_02572               2                 LEFT        MLO   \n",
       "1544    P_02584               1                 LEFT         CC   \n",
       "1545    P_02584               1                 LEFT        MLO   \n",
       "\n",
       "      abnormality id abnormality type              calc type   \n",
       "0                  1    calcification              AMORPHOUS  \\\n",
       "1                  1    calcification              AMORPHOUS   \n",
       "2                  1    calcification            PLEOMORPHIC   \n",
       "3                  1    calcification            PLEOMORPHIC   \n",
       "4                  1    calcification                    NaN   \n",
       "...              ...              ...                    ...   \n",
       "1541               1    calcification  AMORPHOUS-PLEOMORPHIC   \n",
       "1542               1    calcification              AMORPHOUS   \n",
       "1543               1    calcification              AMORPHOUS   \n",
       "1544               1    calcification            PLEOMORPHIC   \n",
       "1545               1    calcification            PLEOMORPHIC   \n",
       "\n",
       "     calc distribution  assessment                pathology  subtlety   \n",
       "0            CLUSTERED           3                MALIGNANT         3  \\\n",
       "1            CLUSTERED           3                MALIGNANT         3   \n",
       "2               LINEAR           4                   BENIGN         4   \n",
       "3               LINEAR           4                   BENIGN         4   \n",
       "4             REGIONAL           2  BENIGN_WITHOUT_CALLBACK         3   \n",
       "...                ...         ...                      ...       ...   \n",
       "1541         SEGMENTAL           5                MALIGNANT         5   \n",
       "1542         CLUSTERED           0                MALIGNANT         2   \n",
       "1543         CLUSTERED           0                MALIGNANT         2   \n",
       "1544         SEGMENTAL           0                   BENIGN         4   \n",
       "1545         SEGMENTAL           0                   BENIGN         4   \n",
       "\n",
       "                                        image file path   \n",
       "0     Calc-Training_P_00005_RIGHT_CC/1.3.6.1.4.1.959...  \\\n",
       "1     Calc-Training_P_00005_RIGHT_MLO/1.3.6.1.4.1.95...   \n",
       "2     Calc-Training_P_00007_LEFT_CC/1.3.6.1.4.1.9590...   \n",
       "3     Calc-Training_P_00007_LEFT_MLO/1.3.6.1.4.1.959...   \n",
       "4     Calc-Training_P_00008_LEFT_CC/1.3.6.1.4.1.9590...   \n",
       "...                                                 ...   \n",
       "1541  Calc-Training_P_02566_RIGHT_MLO/1.3.6.1.4.1.95...   \n",
       "1542  Calc-Training_P_02572_LEFT_CC/1.3.6.1.4.1.9590...   \n",
       "1543  Calc-Training_P_02572_LEFT_MLO/1.3.6.1.4.1.959...   \n",
       "1544  Calc-Training_P_02584_LEFT_CC/1.3.6.1.4.1.9590...   \n",
       "1545  Calc-Training_P_02584_LEFT_MLO/1.3.6.1.4.1.959...   \n",
       "\n",
       "                                cropped image file path   \n",
       "0     Calc-Training_P_00005_RIGHT_CC_1/1.3.6.1.4.1.9...  \\\n",
       "1     Calc-Training_P_00005_RIGHT_MLO_1/1.3.6.1.4.1....   \n",
       "2     Calc-Training_P_00007_LEFT_CC_1/1.3.6.1.4.1.95...   \n",
       "3     Calc-Training_P_00007_LEFT_MLO_1/1.3.6.1.4.1.9...   \n",
       "4     Calc-Training_P_00008_LEFT_CC_1/1.3.6.1.4.1.95...   \n",
       "...                                                 ...   \n",
       "1541  Calc-Training_P_02566_RIGHT_MLO_1/1.3.6.1.4.1....   \n",
       "1542  Calc-Training_P_02572_LEFT_CC_1/1.3.6.1.4.1.95...   \n",
       "1543  Calc-Training_P_02572_LEFT_MLO_1/1.3.6.1.4.1.9...   \n",
       "1544  Calc-Training_P_02584_LEFT_CC_1/1.3.6.1.4.1.95...   \n",
       "1545  Calc-Training_P_02584_LEFT_MLO_1/1.3.6.1.4.1.9...   \n",
       "\n",
       "                                     ROI mask file path   \n",
       "0     Calc-Training_P_00005_RIGHT_CC_1/1.3.6.1.4.1.9...  \\\n",
       "1     Calc-Training_P_00005_RIGHT_MLO_1/1.3.6.1.4.1....   \n",
       "2     Calc-Training_P_00007_LEFT_CC_1/1.3.6.1.4.1.95...   \n",
       "3     Calc-Training_P_00007_LEFT_MLO_1/1.3.6.1.4.1.9...   \n",
       "4     Calc-Training_P_00008_LEFT_CC_1/1.3.6.1.4.1.95...   \n",
       "...                                                 ...   \n",
       "1541  Calc-Training_P_02566_RIGHT_MLO_1/1.3.6.1.4.1....   \n",
       "1542  Calc-Training_P_02572_LEFT_CC_1/1.3.6.1.4.1.95...   \n",
       "1543  Calc-Training_P_02572_LEFT_MLO_1/1.3.6.1.4.1.9...   \n",
       "1544  Calc-Training_P_02584_LEFT_CC_1/1.3.6.1.4.1.95...   \n",
       "1545  Calc-Training_P_02584_LEFT_MLO_1/1.3.6.1.4.1.9...   \n",
       "\n",
       "                            PatientID   \n",
       "0      Calc-Training_P_00005_RIGHT_CC  \\\n",
       "1     Calc-Training_P_00005_RIGHT_MLO   \n",
       "2       Calc-Training_P_00007_LEFT_CC   \n",
       "3      Calc-Training_P_00007_LEFT_MLO   \n",
       "4       Calc-Training_P_00008_LEFT_CC   \n",
       "...                               ...   \n",
       "1541  Calc-Training_P_02566_RIGHT_MLO   \n",
       "1542    Calc-Training_P_02572_LEFT_CC   \n",
       "1543   Calc-Training_P_02572_LEFT_MLO   \n",
       "1544    Calc-Training_P_02584_LEFT_CC   \n",
       "1545   Calc-Training_P_02584_LEFT_MLO   \n",
       "\n",
       "                                             image_path   \n",
       "0     CBIS-DDSM/jpeg/1.3.6.1.4.1.9590.100.1.2.474143...  \\\n",
       "1     CBIS-DDSM/jpeg/1.3.6.1.4.1.9590.100.1.2.250596...   \n",
       "2     CBIS-DDSM/jpeg/1.3.6.1.4.1.9590.100.1.2.228699...   \n",
       "3     CBIS-DDSM/jpeg/1.3.6.1.4.1.9590.100.1.2.104743...   \n",
       "4     CBIS-DDSM/jpeg/1.3.6.1.4.1.9590.100.1.2.406725...   \n",
       "...                                                 ...   \n",
       "1541  CBIS-DDSM/jpeg/1.3.6.1.4.1.9590.100.1.2.215164...   \n",
       "1542  CBIS-DDSM/jpeg/1.3.6.1.4.1.9590.100.1.2.398227...   \n",
       "1543  CBIS-DDSM/jpeg/1.3.6.1.4.1.9590.100.1.2.832140...   \n",
       "1544  CBIS-DDSM/jpeg/1.3.6.1.4.1.9590.100.1.2.114030...   \n",
       "1545  CBIS-DDSM/jpeg/1.3.6.1.4.1.9590.100.1.2.197835...   \n",
       "\n",
       "                                      fixed_image_paths  \n",
       "0     ../dataset/jpeg/1.3.6.1.4.1.9590.100.1.2.47414...  \n",
       "1     ../dataset/jpeg/1.3.6.1.4.1.9590.100.1.2.25059...  \n",
       "2     ../dataset/jpeg/1.3.6.1.4.1.9590.100.1.2.22869...  \n",
       "3     ../dataset/jpeg/1.3.6.1.4.1.9590.100.1.2.10474...  \n",
       "4     ../dataset/jpeg/1.3.6.1.4.1.9590.100.1.2.40672...  \n",
       "...                                                 ...  \n",
       "1541  ../dataset/jpeg/1.3.6.1.4.1.9590.100.1.2.21516...  \n",
       "1542  ../dataset/jpeg/1.3.6.1.4.1.9590.100.1.2.39822...  \n",
       "1543  ../dataset/jpeg/1.3.6.1.4.1.9590.100.1.2.83214...  \n",
       "1544  ../dataset/jpeg/1.3.6.1.4.1.9590.100.1.2.11403...  \n",
       "1545  ../dataset/jpeg/1.3.6.1.4.1.9590.100.1.2.19783...  \n",
       "\n",
       "[1546 rows x 17 columns]"
      ]
     },
     "execution_count": 32,
     "metadata": {},
     "output_type": "execute_result"
    }
   ],
   "source": [
    "calc_train_dataset"
   ]
  },
  {
   "cell_type": "code",
   "execution_count": 33,
   "id": "c931ca8d-5efc-4f20-8ae7-c88946493bbf",
   "metadata": {
    "tags": []
   },
   "outputs": [
    {
     "data": {
      "text/html": [
       "<div>\n",
       "<style scoped>\n",
       "    .dataframe tbody tr th:only-of-type {\n",
       "        vertical-align: middle;\n",
       "    }\n",
       "\n",
       "    .dataframe tbody tr th {\n",
       "        vertical-align: top;\n",
       "    }\n",
       "\n",
       "    .dataframe thead th {\n",
       "        text-align: right;\n",
       "    }\n",
       "</style>\n",
       "<table border=\"1\" class=\"dataframe\">\n",
       "  <thead>\n",
       "    <tr style=\"text-align: right;\">\n",
       "      <th></th>\n",
       "      <th>PatientID</th>\n",
       "      <th>SeriesDescription</th>\n",
       "    </tr>\n",
       "  </thead>\n",
       "  <tbody>\n",
       "    <tr>\n",
       "      <th>0</th>\n",
       "      <td>Mass-Training_P_01265_RIGHT_MLO_1</td>\n",
       "      <td>cropped images</td>\n",
       "    </tr>\n",
       "    <tr>\n",
       "      <th>1</th>\n",
       "      <td>Mass-Training_P_01754_RIGHT_CC</td>\n",
       "      <td>full mammogram images</td>\n",
       "    </tr>\n",
       "    <tr>\n",
       "      <th>2</th>\n",
       "      <td>Calc-Training_P_00232_RIGHT_CC</td>\n",
       "      <td>full mammogram images</td>\n",
       "    </tr>\n",
       "    <tr>\n",
       "      <th>3</th>\n",
       "      <td>Calc-Test_P_00562_LEFT_CC_2</td>\n",
       "      <td>cropped images</td>\n",
       "    </tr>\n",
       "    <tr>\n",
       "      <th>4</th>\n",
       "      <td>P_00562_LEFT_CC_2.dcm</td>\n",
       "      <td>NaN</td>\n",
       "    </tr>\n",
       "    <tr>\n",
       "      <th>...</th>\n",
       "      <td>...</td>\n",
       "      <td>...</td>\n",
       "    </tr>\n",
       "    <tr>\n",
       "      <th>10232</th>\n",
       "      <td>Calc-Training_P_01864_RIGHT_CC_2</td>\n",
       "      <td>ROI mask images</td>\n",
       "    </tr>\n",
       "    <tr>\n",
       "      <th>10233</th>\n",
       "      <td>Mass-Test_P_00979_LEFT_MLO</td>\n",
       "      <td>full mammogram images</td>\n",
       "    </tr>\n",
       "    <tr>\n",
       "      <th>10234</th>\n",
       "      <td>Mass-Training_P_01461_RIGHT_MLO</td>\n",
       "      <td>full mammogram images</td>\n",
       "    </tr>\n",
       "    <tr>\n",
       "      <th>10235</th>\n",
       "      <td>Mass-Training_P_00314_RIGHT_MLO_1</td>\n",
       "      <td>ROI mask images</td>\n",
       "    </tr>\n",
       "    <tr>\n",
       "      <th>10236</th>\n",
       "      <td>Mass-Training_P_00314_RIGHT_MLO_1</td>\n",
       "      <td>cropped images</td>\n",
       "    </tr>\n",
       "  </tbody>\n",
       "</table>\n",
       "<p>10237 rows × 2 columns</p>\n",
       "</div>"
      ],
      "text/plain": [
       "                               PatientID      SeriesDescription\n",
       "0      Mass-Training_P_01265_RIGHT_MLO_1         cropped images\n",
       "1         Mass-Training_P_01754_RIGHT_CC  full mammogram images\n",
       "2         Calc-Training_P_00232_RIGHT_CC  full mammogram images\n",
       "3            Calc-Test_P_00562_LEFT_CC_2         cropped images\n",
       "4                  P_00562_LEFT_CC_2.dcm                    NaN\n",
       "...                                  ...                    ...\n",
       "10232   Calc-Training_P_01864_RIGHT_CC_2        ROI mask images\n",
       "10233         Mass-Test_P_00979_LEFT_MLO  full mammogram images\n",
       "10234    Mass-Training_P_01461_RIGHT_MLO  full mammogram images\n",
       "10235  Mass-Training_P_00314_RIGHT_MLO_1        ROI mask images\n",
       "10236  Mass-Training_P_00314_RIGHT_MLO_1         cropped images\n",
       "\n",
       "[10237 rows x 2 columns]"
      ]
     },
     "execution_count": 33,
     "metadata": {},
     "output_type": "execute_result"
    }
   ],
   "source": [
    "dicom_dataset[[\"PatientID\",\"SeriesDescription\"]]"
   ]
  },
  {
   "cell_type": "code",
   "execution_count": 34,
   "id": "10b69a1f-0b5b-48d1-8845-0a1c65831368",
   "metadata": {
    "tags": []
   },
   "outputs": [
    {
     "data": {
      "text/html": [
       "<div>\n",
       "<style scoped>\n",
       "    .dataframe tbody tr th:only-of-type {\n",
       "        vertical-align: middle;\n",
       "    }\n",
       "\n",
       "    .dataframe tbody tr th {\n",
       "        vertical-align: top;\n",
       "    }\n",
       "\n",
       "    .dataframe thead th {\n",
       "        text-align: right;\n",
       "    }\n",
       "</style>\n",
       "<table border=\"1\" class=\"dataframe\">\n",
       "  <thead>\n",
       "    <tr style=\"text-align: right;\">\n",
       "      <th></th>\n",
       "      <th>image_path</th>\n",
       "      <th>PatientID</th>\n",
       "    </tr>\n",
       "  </thead>\n",
       "  <tbody>\n",
       "    <tr>\n",
       "      <th>0</th>\n",
       "      <td>CBIS-DDSM/jpeg/1.3.6.1.4.1.9590.100.1.2.129308...</td>\n",
       "      <td>Mass-Training_P_01265_RIGHT_MLO_1</td>\n",
       "    </tr>\n",
       "    <tr>\n",
       "      <th>3</th>\n",
       "      <td>CBIS-DDSM/jpeg/1.3.6.1.4.1.9590.100.1.2.381187...</td>\n",
       "      <td>Calc-Test_P_00562_LEFT_CC_2</td>\n",
       "    </tr>\n",
       "    <tr>\n",
       "      <th>6</th>\n",
       "      <td>CBIS-DDSM/jpeg/1.3.6.1.4.1.9590.100.1.2.153339...</td>\n",
       "      <td>Calc-Training_P_00181_RIGHT_CC_1</td>\n",
       "    </tr>\n",
       "    <tr>\n",
       "      <th>7</th>\n",
       "      <td>CBIS-DDSM/jpeg/1.3.6.1.4.1.9590.100.1.2.178994...</td>\n",
       "      <td>Calc-Training_P_01015_LEFT_CC_1</td>\n",
       "    </tr>\n",
       "    <tr>\n",
       "      <th>10</th>\n",
       "      <td>CBIS-DDSM/jpeg/1.3.6.1.4.1.9590.100.1.2.411833...</td>\n",
       "      <td>Calc-Training_P_01497_LEFT_CC_1</td>\n",
       "    </tr>\n",
       "    <tr>\n",
       "      <th>...</th>\n",
       "      <td>...</td>\n",
       "      <td>...</td>\n",
       "    </tr>\n",
       "    <tr>\n",
       "      <th>10225</th>\n",
       "      <td>CBIS-DDSM/jpeg/1.3.6.1.4.1.9590.100.1.2.374221...</td>\n",
       "      <td>Calc-Training_P_00448_LEFT_MLO_1</td>\n",
       "    </tr>\n",
       "    <tr>\n",
       "      <th>10227</th>\n",
       "      <td>CBIS-DDSM/jpeg/1.3.6.1.4.1.9590.100.1.2.195242...</td>\n",
       "      <td>Mass-Training_P_01559_RIGHT_MLO_1</td>\n",
       "    </tr>\n",
       "    <tr>\n",
       "      <th>10229</th>\n",
       "      <td>CBIS-DDSM/jpeg/1.3.6.1.4.1.9590.100.1.2.263713...</td>\n",
       "      <td>Mass-Training_P_00731_RIGHT_CC_1</td>\n",
       "    </tr>\n",
       "    <tr>\n",
       "      <th>10231</th>\n",
       "      <td>CBIS-DDSM/jpeg/1.3.6.1.4.1.9590.100.1.2.627982...</td>\n",
       "      <td>Calc-Training_P_01864_RIGHT_CC_2</td>\n",
       "    </tr>\n",
       "    <tr>\n",
       "      <th>10236</th>\n",
       "      <td>CBIS-DDSM/jpeg/1.3.6.1.4.1.9590.100.1.2.285138...</td>\n",
       "      <td>Mass-Training_P_00314_RIGHT_MLO_1</td>\n",
       "    </tr>\n",
       "  </tbody>\n",
       "</table>\n",
       "<p>3567 rows × 2 columns</p>\n",
       "</div>"
      ],
      "text/plain": [
       "                                              image_path   \n",
       "0      CBIS-DDSM/jpeg/1.3.6.1.4.1.9590.100.1.2.129308...  \\\n",
       "3      CBIS-DDSM/jpeg/1.3.6.1.4.1.9590.100.1.2.381187...   \n",
       "6      CBIS-DDSM/jpeg/1.3.6.1.4.1.9590.100.1.2.153339...   \n",
       "7      CBIS-DDSM/jpeg/1.3.6.1.4.1.9590.100.1.2.178994...   \n",
       "10     CBIS-DDSM/jpeg/1.3.6.1.4.1.9590.100.1.2.411833...   \n",
       "...                                                  ...   \n",
       "10225  CBIS-DDSM/jpeg/1.3.6.1.4.1.9590.100.1.2.374221...   \n",
       "10227  CBIS-DDSM/jpeg/1.3.6.1.4.1.9590.100.1.2.195242...   \n",
       "10229  CBIS-DDSM/jpeg/1.3.6.1.4.1.9590.100.1.2.263713...   \n",
       "10231  CBIS-DDSM/jpeg/1.3.6.1.4.1.9590.100.1.2.627982...   \n",
       "10236  CBIS-DDSM/jpeg/1.3.6.1.4.1.9590.100.1.2.285138...   \n",
       "\n",
       "                               PatientID  \n",
       "0      Mass-Training_P_01265_RIGHT_MLO_1  \n",
       "3            Calc-Test_P_00562_LEFT_CC_2  \n",
       "6       Calc-Training_P_00181_RIGHT_CC_1  \n",
       "7        Calc-Training_P_01015_LEFT_CC_1  \n",
       "10       Calc-Training_P_01497_LEFT_CC_1  \n",
       "...                                  ...  \n",
       "10225   Calc-Training_P_00448_LEFT_MLO_1  \n",
       "10227  Mass-Training_P_01559_RIGHT_MLO_1  \n",
       "10229   Mass-Training_P_00731_RIGHT_CC_1  \n",
       "10231   Calc-Training_P_01864_RIGHT_CC_2  \n",
       "10236  Mass-Training_P_00314_RIGHT_MLO_1  \n",
       "\n",
       "[3567 rows x 2 columns]"
      ]
     },
     "execution_count": 34,
     "metadata": {},
     "output_type": "execute_result"
    }
   ],
   "source": [
    "dicom_dataset[[\"image_path\", \"PatientID\"]][dicom_dataset[\"SeriesDescription\"] == \"cropped images\"]"
   ]
  },
  {
   "cell_type": "code",
   "execution_count": 35,
   "id": "e2b081dc-39ef-4069-9429-387f8f36e9e1",
   "metadata": {
    "tags": []
   },
   "outputs": [
    {
     "data": {
      "text/html": [
       "<div>\n",
       "<style scoped>\n",
       "    .dataframe tbody tr th:only-of-type {\n",
       "        vertical-align: middle;\n",
       "    }\n",
       "\n",
       "    .dataframe tbody tr th {\n",
       "        vertical-align: top;\n",
       "    }\n",
       "\n",
       "    .dataframe thead th {\n",
       "        text-align: right;\n",
       "    }\n",
       "</style>\n",
       "<table border=\"1\" class=\"dataframe\">\n",
       "  <thead>\n",
       "    <tr style=\"text-align: right;\">\n",
       "      <th></th>\n",
       "      <th>patient_id</th>\n",
       "      <th>breast density</th>\n",
       "      <th>left or right breast</th>\n",
       "      <th>image view</th>\n",
       "      <th>abnormality id</th>\n",
       "      <th>abnormality type</th>\n",
       "      <th>calc type</th>\n",
       "      <th>calc distribution</th>\n",
       "      <th>assessment</th>\n",
       "      <th>pathology</th>\n",
       "      <th>subtlety</th>\n",
       "      <th>image file path</th>\n",
       "      <th>cropped image file path</th>\n",
       "      <th>ROI mask file path</th>\n",
       "      <th>PatientID</th>\n",
       "      <th>image_path</th>\n",
       "      <th>fixed_image_paths</th>\n",
       "    </tr>\n",
       "  </thead>\n",
       "  <tbody>\n",
       "    <tr>\n",
       "      <th>1184</th>\n",
       "      <td>P_01497</td>\n",
       "      <td>4</td>\n",
       "      <td>LEFT</td>\n",
       "      <td>CC</td>\n",
       "      <td>1</td>\n",
       "      <td>calcification</td>\n",
       "      <td>PUNCTATE-AMORPHOUS</td>\n",
       "      <td>REGIONAL</td>\n",
       "      <td>4</td>\n",
       "      <td>BENIGN</td>\n",
       "      <td>3</td>\n",
       "      <td>Calc-Training_P_01497_LEFT_CC/1.3.6.1.4.1.9590...</td>\n",
       "      <td>Calc-Training_P_01497_LEFT_CC_1/1.3.6.1.4.1.95...</td>\n",
       "      <td>Calc-Training_P_01497_LEFT_CC_1/1.3.6.1.4.1.95...</td>\n",
       "      <td>Calc-Training_P_01497_LEFT_CC</td>\n",
       "      <td>CBIS-DDSM/jpeg/1.3.6.1.4.1.9590.100.1.2.350546...</td>\n",
       "      <td>../dataset/jpeg/1.3.6.1.4.1.9590.100.1.2.35054...</td>\n",
       "    </tr>\n",
       "    <tr>\n",
       "      <th>1185</th>\n",
       "      <td>P_01497</td>\n",
       "      <td>4</td>\n",
       "      <td>LEFT</td>\n",
       "      <td>MLO</td>\n",
       "      <td>1</td>\n",
       "      <td>calcification</td>\n",
       "      <td>PUNCTATE-AMORPHOUS</td>\n",
       "      <td>REGIONAL</td>\n",
       "      <td>4</td>\n",
       "      <td>BENIGN</td>\n",
       "      <td>3</td>\n",
       "      <td>Calc-Training_P_01497_LEFT_MLO/1.3.6.1.4.1.959...</td>\n",
       "      <td>Calc-Training_P_01497_LEFT_MLO_1/1.3.6.1.4.1.9...</td>\n",
       "      <td>Calc-Training_P_01497_LEFT_MLO_1/1.3.6.1.4.1.9...</td>\n",
       "      <td>Calc-Training_P_01497_LEFT_MLO</td>\n",
       "      <td>CBIS-DDSM/jpeg/1.3.6.1.4.1.9590.100.1.2.220280...</td>\n",
       "      <td>../dataset/jpeg/1.3.6.1.4.1.9590.100.1.2.22028...</td>\n",
       "    </tr>\n",
       "    <tr>\n",
       "      <th>1186</th>\n",
       "      <td>P_01497</td>\n",
       "      <td>4</td>\n",
       "      <td>RIGHT</td>\n",
       "      <td>MLO</td>\n",
       "      <td>1</td>\n",
       "      <td>calcification</td>\n",
       "      <td>PUNCTATE-AMORPHOUS</td>\n",
       "      <td>REGIONAL</td>\n",
       "      <td>4</td>\n",
       "      <td>BENIGN</td>\n",
       "      <td>3</td>\n",
       "      <td>Calc-Training_P_01497_RIGHT_MLO/1.3.6.1.4.1.95...</td>\n",
       "      <td>Calc-Training_P_01497_RIGHT_MLO_1/1.3.6.1.4.1....</td>\n",
       "      <td>Calc-Training_P_01497_RIGHT_MLO_1/1.3.6.1.4.1....</td>\n",
       "      <td>Calc-Training_P_01497_RIGHT_MLO</td>\n",
       "      <td>CBIS-DDSM/jpeg/1.3.6.1.4.1.9590.100.1.2.683599...</td>\n",
       "      <td>../dataset/jpeg/1.3.6.1.4.1.9590.100.1.2.68359...</td>\n",
       "    </tr>\n",
       "  </tbody>\n",
       "</table>\n",
       "</div>"
      ],
      "text/plain": [
       "     patient_id  breast density left or right breast image view   \n",
       "1184    P_01497               4                 LEFT         CC  \\\n",
       "1185    P_01497               4                 LEFT        MLO   \n",
       "1186    P_01497               4                RIGHT        MLO   \n",
       "\n",
       "      abnormality id abnormality type           calc type calc distribution   \n",
       "1184               1    calcification  PUNCTATE-AMORPHOUS          REGIONAL  \\\n",
       "1185               1    calcification  PUNCTATE-AMORPHOUS          REGIONAL   \n",
       "1186               1    calcification  PUNCTATE-AMORPHOUS          REGIONAL   \n",
       "\n",
       "      assessment pathology  subtlety   \n",
       "1184           4    BENIGN         3  \\\n",
       "1185           4    BENIGN         3   \n",
       "1186           4    BENIGN         3   \n",
       "\n",
       "                                        image file path   \n",
       "1184  Calc-Training_P_01497_LEFT_CC/1.3.6.1.4.1.9590...  \\\n",
       "1185  Calc-Training_P_01497_LEFT_MLO/1.3.6.1.4.1.959...   \n",
       "1186  Calc-Training_P_01497_RIGHT_MLO/1.3.6.1.4.1.95...   \n",
       "\n",
       "                                cropped image file path   \n",
       "1184  Calc-Training_P_01497_LEFT_CC_1/1.3.6.1.4.1.95...  \\\n",
       "1185  Calc-Training_P_01497_LEFT_MLO_1/1.3.6.1.4.1.9...   \n",
       "1186  Calc-Training_P_01497_RIGHT_MLO_1/1.3.6.1.4.1....   \n",
       "\n",
       "                                     ROI mask file path   \n",
       "1184  Calc-Training_P_01497_LEFT_CC_1/1.3.6.1.4.1.95...  \\\n",
       "1185  Calc-Training_P_01497_LEFT_MLO_1/1.3.6.1.4.1.9...   \n",
       "1186  Calc-Training_P_01497_RIGHT_MLO_1/1.3.6.1.4.1....   \n",
       "\n",
       "                            PatientID   \n",
       "1184    Calc-Training_P_01497_LEFT_CC  \\\n",
       "1185   Calc-Training_P_01497_LEFT_MLO   \n",
       "1186  Calc-Training_P_01497_RIGHT_MLO   \n",
       "\n",
       "                                             image_path   \n",
       "1184  CBIS-DDSM/jpeg/1.3.6.1.4.1.9590.100.1.2.350546...  \\\n",
       "1185  CBIS-DDSM/jpeg/1.3.6.1.4.1.9590.100.1.2.220280...   \n",
       "1186  CBIS-DDSM/jpeg/1.3.6.1.4.1.9590.100.1.2.683599...   \n",
       "\n",
       "                                      fixed_image_paths  \n",
       "1184  ../dataset/jpeg/1.3.6.1.4.1.9590.100.1.2.35054...  \n",
       "1185  ../dataset/jpeg/1.3.6.1.4.1.9590.100.1.2.22028...  \n",
       "1186  ../dataset/jpeg/1.3.6.1.4.1.9590.100.1.2.68359...  "
      ]
     },
     "execution_count": 35,
     "metadata": {},
     "output_type": "execute_result"
    }
   ],
   "source": [
    "calc_train_dataset[calc_train_dataset[\"patient_id\"] == \"P_01497\"]"
   ]
  },
  {
   "cell_type": "code",
   "execution_count": 41,
   "id": "3c125ab5-90f1-4b81-903f-595645331282",
   "metadata": {
    "tags": []
   },
   "outputs": [],
   "source": [
    "x = dicom_dataset[[\"image_path\", \"SeriesDescription\"]][dicom_dataset[\"PatientID\"] == \"Calc-Training_P_01497_LEFT_CC_1\"]"
   ]
  },
  {
   "cell_type": "code",
   "execution_count": 42,
   "id": "5283ceac-49ea-468b-843c-1819ff0b4a44",
   "metadata": {
    "tags": []
   },
   "outputs": [
    {
     "data": {
      "text/plain": [
       "array([['CBIS-DDSM/jpeg/1.3.6.1.4.1.9590.100.1.2.411833492612373627114350673042828631265/2-281.jpg',\n",
       "        'ROI mask images'],\n",
       "       ['CBIS-DDSM/jpeg/1.3.6.1.4.1.9590.100.1.2.411833492612373627114350673042828631265/1-003.jpg',\n",
       "        'cropped images']], dtype=object)"
      ]
     },
     "execution_count": 42,
     "metadata": {},
     "output_type": "execute_result"
    }
   ],
   "source": [
    "x.values"
   ]
  },
  {
   "cell_type": "code",
   "execution_count": 44,
   "id": "d928f4e1-b9af-4fd5-b4e9-be88acfe54a1",
   "metadata": {
    "tags": []
   },
   "outputs": [
    {
     "data": {
      "text/plain": [
       "<matplotlib.image.AxesImage at 0x1edeeca90>"
      ]
     },
     "execution_count": 44,
     "metadata": {},
     "output_type": "execute_result"
    },
    {
     "data": {
      "image/png": "[encoded data removed]",
      "text/plain": [
       "<Figure size 640x480 with 1 Axes>"
      ]
     },
     "metadata": {},
     "output_type": "display_data"
    }
   ],
   "source": [
    "im = cv2.imread('../dataset/jpeg/1.3.6.1.4.1.9590.100.1.2.411833492612373627114350673042828631265/1-003.jpg')\n",
    "plt.imshow(im)"
   ]
  },
  {
   "cell_type": "code",
   "execution_count": null,
   "id": "1bbf8437-1858-492b-a771-a1ddb61c21ee",
   "metadata": {},
   "outputs": [],
   "source": [
    "im"
   ]
  },
  {
   "cell_type": "code",
   "execution_count": 74,
   "id": "a313d333-4bd4-416e-b22f-d036f03ede1c",
   "metadata": {
    "tags": []
   },
   "outputs": [
    {
     "data": {
      "text/plain": [
       "<matplotlib.image.AxesImage at 0x148f16680>"
      ]
     },
     "execution_count": 74,
     "metadata": {},
     "output_type": "execute_result"
    },
    {
     "data": {
      "image/png": "[encoded data removed]",
      "text/plain": [
       "<Figure size 640x480 with 1 Axes>"
      ]
     },
     "metadata": {},
     "output_type": "display_data"
    }
   ],
   "source": [
    "roi = cv2.imread('../dataset/jpeg/1.3.6.1.4.1.9590.100.1.2.411833492612373627114350673042828631265/2-281.jpg')\n",
    "plt.imshow(roi)"
   ]
  },
  {
   "cell_type": "code",
   "execution_count": 76,
   "id": "29a9e2e9-6ef3-4796-bc71-9932b54cc96d",
   "metadata": {
    "tags": []
   },
   "outputs": [
    {
     "data": {
      "text/plain": [
       "<matplotlib.image.AxesImage at 0x148c36ad0>"
      ]
     },
     "execution_count": 76,
     "metadata": {},
     "output_type": "execute_result"
    },
    {
     "data": {
      "image/png": "[encoded data removed]",
      "text/plain": [
       "<Figure size 640x480 with 1 Axes>"
      ]
     },
     "metadata": {},
     "output_type": "display_data"
    }
   ],
   "source": [
    "im = cv2.imread('../dataset/jpeg/1.3.6.1.4.1.9590.100.1.2.350546038712624038408433082083902639722/1-106.jpg')\n",
    "plt.imshow(im*roi)"
   ]
  },
  {
   "cell_type": "code",
   "execution_count": 68,
   "id": "ee545eff-379d-4981-8789-f424ceb2a79b",
   "metadata": {
    "tags": []
   },
   "outputs": [
    {
     "data": {
      "text/plain": [
       "(1217, 809, 3)"
      ]
     },
     "execution_count": 68,
     "metadata": {},
     "output_type": "execute_result"
    }
   ],
   "source": [
    "roi.shape"
   ]
  },
  {
   "cell_type": "code",
   "execution_count": null,
   "id": "4be8e311-1718-41e4-abd1-5e5635ac2648",
   "metadata": {},
   "outputs": [],
   "source": []
  }
 ],
 "metadata": {
  "kernelspec": {
   "display_name": "Python 3 (ipykernel)",
   "language": "python",
   "name": "python3"
  },
  "language_info": {
   "codemirror_mode": {
    "name": "ipython",
    "version": 3
   },
   "file_extension": ".py",
   "mimetype": "text/x-python",
   "name": "python",
   "nbconvert_exporter": "python",
   "pygments_lexer": "ipython3",
   "version": "3.10.11"
  }
 },
 "nbformat": 4,
 "nbformat_minor": 5
}
