{
 "cells": [
  {
   "cell_type": "code",
   "execution_count": 2,
   "id": "9ca1430d-b616-4450-b26a-f319ce5d21d2",
   "metadata": {
    "tags": []
   },
   "outputs": [],
   "source": [
    "import sys\n",
    "sys.path.append(\"../\")"
   ]
  },
  {
   "cell_type": "code",
   "execution_count": 21,
   "id": "0359610b-a978-423e-b5f3-1cec1e9b08b0",
   "metadata": {
    "tags": []
   },
   "outputs": [],
   "source": [
    "import os\n",
    "import cv2\n",
    "import numpy as np\n",
    "import pandas as pd\n",
    "import tensorflow as tf\n",
    "from tensorflow.keras.layers import Dense, Flatten, Input\n",
    "from tensorflow.keras.models import Model\n",
    "from tensorflow.keras.applications.inception_v3 import InceptionV3\n",
    "from sklearn.metrics import classification_report, confusion_matrix\n",
    "import matplotlib.pyplot as plt"
   ]
  },
  {
   "cell_type": "code",
   "execution_count": 17,
   "id": "600892ea-cb81-49b0-81be-6f23d90693be",
   "metadata": {
    "tags": []
   },
   "outputs": [],
   "source": [
    "def generate_test_data(test_df, image_type_path):\n",
    "    clahe=cv2.createCLAHE(clipLimit=50)\n",
    "    labels = []\n",
    "    images = []\n",
    "    for image_path, label in test_df[[image_type_path, \"pathology\"]].values:\n",
    "        if image_path == \"no\":\n",
    "            pass\n",
    "        else:\n",
    "            if label == \"BENIGN\":\n",
    "                labels.append(0)\n",
    "            else:\n",
    "                labels.append(1)\n",
    "            # labels.append(label)\n",
    "            image = cv2.imread(image_path)\n",
    "            image = tf.image.resize(image, (299, 299)).numpy().astype(\"uint8\")\n",
    "            images.append(image)\n",
    "    return np.array(images), np.array(labels)"
   ]
  },
  {
   "cell_type": "code",
   "execution_count": 18,
   "id": "b0ebc69d-6b2f-47e8-be3e-7f443701004d",
   "metadata": {
    "tags": []
   },
   "outputs": [],
   "source": [
    "train = pd.read_csv(\"../CBIS-DDSM/csv/mass_train_updated.csv\", index_col=0)\n",
    "test = pd.read_csv(\"../CBIS-DDSM/csv/mass_test_updated.csv\", index_col=0)"
   ]
  },
  {
   "cell_type": "code",
   "execution_count": 19,
   "id": "07793af5-e63b-443d-ab11-4247c2c6e9d5",
   "metadata": {
    "tags": []
   },
   "outputs": [
    {
     "name": "stdout",
     "output_type": "stream",
     "text": [
      "Found 1219 files belonging to 2 classes.\n",
      "Found 243 files belonging to 2 classes.\n",
      "Found 341 files belonging to 2 classes.\n"
     ]
    }
   ],
   "source": [
    "BATCH_SIZE = 256\n",
    "new_dataset_train_path = \"../image_dataset/mass_dataset/full_images/train/\"\n",
    "new_dataset_val_path = \"../image_dataset/mass_dataset/full_images/validation/\"\n",
    "new_dataset_test_path = \"../image_dataset/mass_dataset/full_images/test/\"\n",
    "\n",
    "tf_train_dataset = tf.keras.utils.image_dataset_from_directory(new_dataset_train_path,\n",
    "                                                            shuffle=True,\n",
    "                                                            batch_size=BATCH_SIZE,\n",
    "                                                              image_size=(299, 299))\n",
    "\n",
    "tf_validation_dataset = tf.keras.utils.image_dataset_from_directory(new_dataset_val_path,\n",
    "                                                                 shuffle=True,\n",
    "                                                                 batch_size=BATCH_SIZE,\n",
    "                                                                   image_size=(299, 299))\n",
    "\n",
    "tf_test_dataset = tf.keras.utils.image_dataset_from_directory(new_dataset_test_path,\n",
    "                                                                 shuffle=True,\n",
    "                                                                 batch_size=BATCH_SIZE,\n",
    "                                                                   image_size=(299, 299))\n",
    "\n",
    "images, labels = generate_test_data(test, image_type_path=\"image file path\")"
   ]
  },
  {
   "cell_type": "code",
   "execution_count": null,
   "id": "e52f70e7-4290-4091-8b8a-4f164ae32169",
   "metadata": {
    "tags": []
   },
   "outputs": [],
   "source": [
    "class_names = tf_train_dataset.class_names\n",
    "\n",
    "plt.figure(figsize=(10, 10))\n",
    "for images, labels in tf_validation_dataset.take(1):\n",
    "    for i in range(9):\n",
    "        ax = plt.subplot(3, 3, i + 1)\n",
    "        plt.imshow(images[i].numpy().astype(\"uint8\"))\n",
    "        plt.title(class_names[labels[i]])\n",
    "        plt.axis(\"off\")"
   ]
  },
  {
   "cell_type": "code",
   "execution_count": 6,
   "id": "f97ab35f-45fa-4da8-84ca-d92213e1ae6f",
   "metadata": {
    "tags": []
   },
   "outputs": [],
   "source": [
    "data_augmentation = tf.keras.Sequential([\n",
    "    tf.keras. layers.RandomFlip(\"horizontal_and_vertical\")])\n",
    "\n",
    "preprocess_input = tf.keras.applications.inception_v3.preprocess_input"
   ]
  },
  {
   "cell_type": "code",
   "execution_count": 7,
   "id": "a2727c24-808c-4d08-a617-6c36098600bb",
   "metadata": {
    "tags": []
   },
   "outputs": [],
   "source": [
    "base_model = tf.keras.applications.InceptionV3(include_top=False,\n",
    "                                               input_shape=(299, 299, 3),  \n",
    "                                               weights='imagenet')\n",
    "\n",
    "for layer in base_model.layers:\n",
    "    layer.trainable = False\n",
    "    \n",
    "inputs = tf.keras.Input(shape=(299, 299, 3))\n",
    "\n",
    "# x = data_augmentation(inputs)\n",
    "x = preprocess_input(inputs)\n",
    "x = base_model(x, training=False)\n",
    "x = Flatten()(x)\n",
    "x = tf.keras.layers.Dropout(0.5)(x)\n",
    "x = Dense(32, activation='relu')(x)\n",
    "x = Dense(1, activation='sigmoid')(x)\n",
    "\n",
    "model = Model(inputs, x)\n",
    "\n",
    "model.compile(loss='binary_crossentropy',\n",
    "              optimizer=tf.keras.optimizers.Adam(learning_rate=0.00001),\n",
    "              metrics=['accuracy'])"
   ]
  },
  {
   "cell_type": "code",
   "execution_count": 8,
   "id": "61e5f736-76f7-48d6-b5a4-fdacd0ebd30c",
   "metadata": {
    "tags": []
   },
   "outputs": [
    {
     "name": "stdout",
     "output_type": "stream",
     "text": [
      "Model: \"model\"\n",
      "_________________________________________________________________\n",
      " Layer (type)                Output Shape              Param #   \n",
      "=================================================================\n",
      " input_2 (InputLayer)        [(None, 299, 299, 3)]     0         \n",
      "                                                                 \n",
      " tf.math.truediv (TFOpLambda  (None, 299, 299, 3)      0         \n",
      " )                                                               \n",
      "                                                                 \n",
      " tf.math.subtract (TFOpLambd  (None, 299, 299, 3)      0         \n",
      " a)                                                              \n",
      "                                                                 \n",
      " inception_v3 (Functional)   (None, 8, 8, 2048)        21802784  \n",
      "                                                                 \n",
      " flatten (Flatten)           (None, 131072)            0         \n",
      "                                                                 \n",
      " dropout (Dropout)           (None, 131072)            0         \n",
      "                                                                 \n",
      " dense (Dense)               (None, 32)                4194336   \n",
      "                                                                 \n",
      " dense_1 (Dense)             (None, 1)                 33        \n",
      "                                                                 \n",
      "=================================================================\n",
      "Total params: 25,997,153\n",
      "Trainable params: 4,194,369\n",
      "Non-trainable params: 21,802,784\n",
      "_________________________________________________________________\n"
     ]
    }
   ],
   "source": [
    "model.summary()"
   ]
  },
  {
   "cell_type": "code",
   "execution_count": 10,
   "id": "e3b69875-1bba-4483-b737-b2782c4f5495",
   "metadata": {
    "tags": []
   },
   "outputs": [
    {
     "name": "stdout",
     "output_type": "stream",
     "text": [
      "Epoch 1/50\n",
      "5/5 [==============================] - ETA: 0s - loss: 0.7562 - accuracy: 0.5373"
     ]
    },
    {
     "name": "stderr",
     "output_type": "stream",
     "text": [
      "2023-05-15 16:10:31.703818: I tensorflow/core/common_runtime/executor.cc:1197] [/device:CPU:0] (DEBUG INFO) Executor start aborting (this does not indicate an error and you can ignore this message): INVALID_ARGUMENT: You must feed a value for placeholder tensor 'Placeholder/_4' with dtype int32 and shape [341]\n",
      "\t [[{{node Placeholder/_4}}]]\n",
      "2023-05-15 16:10:31.704771: I tensorflow/core/common_runtime/executor.cc:1197] [/device:CPU:0] (DEBUG INFO) Executor start aborting (this does not indicate an error and you can ignore this message): INVALID_ARGUMENT: You must feed a value for placeholder tensor 'Placeholder/_4' with dtype int32 and shape [341]\n",
      "\t [[{{node Placeholder/_4}}]]\n",
      "2023-05-15 16:10:32.418504: I tensorflow/core/grappler/optimizers/custom_graph_optimizer_registry.cc:114] Plugin optimizer for device_type GPU is enabled.\n"
     ]
    },
    {
     "name": "stdout",
     "output_type": "stream",
     "text": [
      "5/5 [==============================] - 23s 5s/step - loss: 0.7562 - accuracy: 0.5373 - val_loss: 0.6784 - val_accuracy: 0.6041\n",
      "Epoch 2/50\n",
      "5/5 [==============================] - 21s 4s/step - loss: 0.7064 - accuracy: 0.5726 - val_loss: 0.6659 - val_accuracy: 0.5982\n",
      "Epoch 3/50\n",
      "5/5 [==============================] - 19s 4s/step - loss: 0.6593 - accuracy: 0.6243 - val_loss: 0.6841 - val_accuracy: 0.5601\n",
      "Epoch 4/50\n",
      "5/5 [==============================] - 20s 4s/step - loss: 0.6326 - accuracy: 0.6432 - val_loss: 0.6631 - val_accuracy: 0.6041\n",
      "Epoch 5/50\n",
      "5/5 [==============================] - 19s 4s/step - loss: 0.6133 - accuracy: 0.6678 - val_loss: 0.6603 - val_accuracy: 0.6217\n",
      "Epoch 6/50\n",
      "5/5 [==============================] - 20s 4s/step - loss: 0.6030 - accuracy: 0.6751 - val_loss: 0.6705 - val_accuracy: 0.5894\n",
      "Epoch 7/50\n",
      "5/5 [==============================] - 20s 4s/step - loss: 0.5778 - accuracy: 0.6874 - val_loss: 0.6696 - val_accuracy: 0.5953\n",
      "Epoch 8/50\n",
      "5/5 [==============================] - 22s 4s/step - loss: 0.5422 - accuracy: 0.7219 - val_loss: 0.6563 - val_accuracy: 0.6305\n",
      "Epoch 9/50\n",
      "5/5 [==============================] - 20s 4s/step - loss: 0.5326 - accuracy: 0.7252 - val_loss: 0.6665 - val_accuracy: 0.6158\n",
      "Epoch 10/50\n",
      "5/5 [==============================] - 20s 4s/step - loss: 0.5301 - accuracy: 0.7424 - val_loss: 0.6708 - val_accuracy: 0.6158\n",
      "Epoch 11/50\n",
      "5/5 [==============================] - 20s 4s/step - loss: 0.5047 - accuracy: 0.7506 - val_loss: 0.6618 - val_accuracy: 0.6364\n",
      "Epoch 12/50\n",
      "5/5 [==============================] - 20s 4s/step - loss: 0.4853 - accuracy: 0.7736 - val_loss: 0.6688 - val_accuracy: 0.6188\n",
      "Epoch 13/50\n",
      "5/5 [==============================] - 20s 4s/step - loss: 0.4523 - accuracy: 0.7941 - val_loss: 0.6592 - val_accuracy: 0.6510\n",
      "Epoch 14/50\n",
      "5/5 [==============================] - 20s 4s/step - loss: 0.4442 - accuracy: 0.7998 - val_loss: 0.6784 - val_accuracy: 0.6217\n",
      "Epoch 15/50\n",
      "5/5 [==============================] - 20s 4s/step - loss: 0.4265 - accuracy: 0.8031 - val_loss: 0.6685 - val_accuracy: 0.6481\n",
      "Epoch 16/50\n",
      "5/5 [==============================] - 20s 4s/step - loss: 0.4193 - accuracy: 0.8064 - val_loss: 0.6736 - val_accuracy: 0.6393\n",
      "Epoch 17/50\n",
      "5/5 [==============================] - 20s 4s/step - loss: 0.3981 - accuracy: 0.8269 - val_loss: 0.6963 - val_accuracy: 0.6188\n",
      "Epoch 18/50\n",
      "5/5 [==============================] - 20s 4s/step - loss: 0.3810 - accuracy: 0.8368 - val_loss: 0.6901 - val_accuracy: 0.6246\n",
      "Epoch 19/50\n",
      "5/5 [==============================] - 21s 4s/step - loss: 0.3585 - accuracy: 0.8507 - val_loss: 0.6990 - val_accuracy: 0.6246\n",
      "Epoch 20/50\n",
      "5/5 [==============================] - 21s 4s/step - loss: 0.3372 - accuracy: 0.8622 - val_loss: 0.7011 - val_accuracy: 0.6305\n",
      "Epoch 21/50\n",
      "5/5 [==============================] - 20s 4s/step - loss: 0.3324 - accuracy: 0.8687 - val_loss: 0.7026 - val_accuracy: 0.6188\n",
      "Epoch 22/50\n",
      "5/5 [==============================] - 20s 4s/step - loss: 0.3337 - accuracy: 0.8671 - val_loss: 0.7365 - val_accuracy: 0.6188\n",
      "Epoch 23/50\n",
      "5/5 [==============================] - 21s 4s/step - loss: 0.3012 - accuracy: 0.8827 - val_loss: 0.7101 - val_accuracy: 0.6334\n",
      "Epoch 24/50\n",
      "5/5 [==============================] - 21s 4s/step - loss: 0.2892 - accuracy: 0.8983 - val_loss: 0.7305 - val_accuracy: 0.6305\n",
      "Epoch 25/50\n",
      "5/5 [==============================] - 24s 5s/step - loss: 0.2699 - accuracy: 0.9048 - val_loss: 0.7220 - val_accuracy: 0.6276\n",
      "Epoch 26/50\n",
      "5/5 [==============================] - 24s 5s/step - loss: 0.2656 - accuracy: 0.9032 - val_loss: 0.7443 - val_accuracy: 0.6305\n",
      "Epoch 27/50\n",
      "5/5 [==============================] - 23s 5s/step - loss: 0.2521 - accuracy: 0.9163 - val_loss: 0.7518 - val_accuracy: 0.6305\n",
      "Epoch 28/50\n",
      "5/5 [==============================] - 22s 4s/step - loss: 0.2459 - accuracy: 0.9270 - val_loss: 0.7569 - val_accuracy: 0.6364\n",
      "Epoch 29/50\n",
      "5/5 [==============================] - 20s 4s/step - loss: 0.2379 - accuracy: 0.9155 - val_loss: 0.7657 - val_accuracy: 0.6364\n",
      "Epoch 30/50\n",
      "5/5 [==============================] - 22s 4s/step - loss: 0.2261 - accuracy: 0.9286 - val_loss: 0.7868 - val_accuracy: 0.6393\n",
      "Epoch 31/50\n",
      "5/5 [==============================] - 21s 4s/step - loss: 0.2243 - accuracy: 0.9139 - val_loss: 0.8079 - val_accuracy: 0.6188\n",
      "Epoch 32/50\n",
      "5/5 [==============================] - 21s 4s/step - loss: 0.2131 - accuracy: 0.9409 - val_loss: 0.7751 - val_accuracy: 0.6305\n",
      "Epoch 33/50\n",
      "5/5 [==============================] - 20s 4s/step - loss: 0.1944 - accuracy: 0.9442 - val_loss: 0.8154 - val_accuracy: 0.6246\n",
      "Epoch 34/50\n",
      "5/5 [==============================] - 22s 4s/step - loss: 0.1942 - accuracy: 0.9508 - val_loss: 0.7847 - val_accuracy: 0.6393\n",
      "Epoch 35/50\n",
      "5/5 [==============================] - 21s 4s/step - loss: 0.1966 - accuracy: 0.9368 - val_loss: 0.8248 - val_accuracy: 0.6276\n",
      "Epoch 36/50\n",
      "5/5 [==============================] - 21s 4s/step - loss: 0.1817 - accuracy: 0.9450 - val_loss: 0.7971 - val_accuracy: 0.6276\n",
      "Epoch 37/50\n",
      "5/5 [==============================] - 21s 4s/step - loss: 0.1691 - accuracy: 0.9606 - val_loss: 0.8333 - val_accuracy: 0.6217\n",
      "Epoch 38/50\n",
      "5/5 [==============================] - 21s 4s/step - loss: 0.1740 - accuracy: 0.9532 - val_loss: 0.8060 - val_accuracy: 0.6246\n",
      "Epoch 39/50\n",
      "5/5 [==============================] - 21s 4s/step - loss: 0.1692 - accuracy: 0.9573 - val_loss: 0.8497 - val_accuracy: 0.6276\n",
      "Epoch 40/50\n",
      "5/5 [==============================] - 22s 4s/step - loss: 0.1527 - accuracy: 0.9647 - val_loss: 0.8180 - val_accuracy: 0.6334\n",
      "Epoch 41/50\n",
      "5/5 [==============================] - 21s 4s/step - loss: 0.1478 - accuracy: 0.9672 - val_loss: 0.8593 - val_accuracy: 0.6246\n",
      "Epoch 42/50\n",
      "5/5 [==============================] - 24s 5s/step - loss: 0.1427 - accuracy: 0.9737 - val_loss: 0.8229 - val_accuracy: 0.6510\n",
      "Epoch 43/50\n",
      "5/5 [==============================] - 28s 6s/step - loss: 0.1366 - accuracy: 0.9705 - val_loss: 0.8489 - val_accuracy: 0.6305\n",
      "Epoch 44/50\n",
      "5/5 [==============================] - 28s 6s/step - loss: 0.1388 - accuracy: 0.9664 - val_loss: 0.8387 - val_accuracy: 0.6393\n",
      "Epoch 45/50\n",
      "5/5 [==============================] - 24s 5s/step - loss: 0.1302 - accuracy: 0.9762 - val_loss: 0.8448 - val_accuracy: 0.6364\n",
      "Epoch 46/50\n",
      "5/5 [==============================] - 24s 5s/step - loss: 0.1233 - accuracy: 0.9713 - val_loss: 0.8443 - val_accuracy: 0.6452\n",
      "Epoch 47/50\n",
      "5/5 [==============================] - 28s 6s/step - loss: 0.1197 - accuracy: 0.9770 - val_loss: 0.8574 - val_accuracy: 0.6305\n",
      "Epoch 48/50\n",
      "5/5 [==============================] - 26s 5s/step - loss: 0.1192 - accuracy: 0.9836 - val_loss: 0.8610 - val_accuracy: 0.6305\n",
      "Epoch 49/50\n",
      "5/5 [==============================] - 23s 4s/step - loss: 0.1150 - accuracy: 0.9811 - val_loss: 0.8640 - val_accuracy: 0.6246\n",
      "Epoch 50/50\n",
      "5/5 [==============================] - 22s 4s/step - loss: 0.1090 - accuracy: 0.9803 - val_loss: 0.8943 - val_accuracy: 0.6334\n",
      "Found 341 files belonging to 2 classes.\n"
     ]
    },
    {
     "name": "stderr",
     "output_type": "stream",
     "text": [
      "2023-05-15 16:28:18.525259: I tensorflow/core/common_runtime/executor.cc:1197] [/device:CPU:0] (DEBUG INFO) Executor start aborting (this does not indicate an error and you can ignore this message): INVALID_ARGUMENT: You must feed a value for placeholder tensor 'Placeholder/_4' with dtype int32 and shape [341]\n",
      "\t [[{{node Placeholder/_4}}]]\n",
      "2023-05-15 16:28:18.526558: I tensorflow/core/common_runtime/executor.cc:1197] [/device:CPU:0] (DEBUG INFO) Executor start aborting (this does not indicate an error and you can ignore this message): INVALID_ARGUMENT: You must feed a value for placeholder tensor 'Placeholder/_0' with dtype string and shape [341]\n",
      "\t [[{{node Placeholder/_0}}]]\n"
     ]
    },
    {
     "name": "stdout",
     "output_type": "stream",
     "text": [
      "2/2 [==============================] - 5s 1s/step - loss: 0.8943 - accuracy: 0.6334\n",
      "loss: 0.8943344354629517 \n",
      "accuracy: 63.3431 %\n"
     ]
    }
   ],
   "source": [
    "history = model.fit(tf_train_dataset,\n",
    "                    epochs=50,\n",
    "                    batch_size=256,\n",
    "                    validation_data=tf_test_dataset)\n",
    "\n",
    "new_dataset_test_path = \"../image_dataset/mass_dataset/full_images/test/\"\n",
    "\n",
    "\n",
    "tf_test_dataset = tf.keras.utils.image_dataset_from_directory(new_dataset_test_path,\n",
    "                                                            shuffle=True,\n",
    "                                                            batch_size=BATCH_SIZE,\n",
    "                                                              image_size=(299, 299))\n",
    "\n",
    "mets = model.evaluate(tf_test_dataset)\n",
    "print(\"loss:\", mets[0], \"\\naccuracy:\", np.round(mets[1]*100, 4), \"%\")"
   ]
  },
  {
   "cell_type": "code",
   "execution_count": 20,
   "id": "bb1d0647-7d0f-47f9-b28a-d1f489763b01",
   "metadata": {
    "tags": []
   },
   "outputs": [
    {
     "name": "stderr",
     "output_type": "stream",
     "text": [
      "2023-05-15 16:47:50.060392: I tensorflow/core/common_runtime/executor.cc:1197] [/device:CPU:0] (DEBUG INFO) Executor start aborting (this does not indicate an error and you can ignore this message): INVALID_ARGUMENT: You must feed a value for placeholder tensor 'Placeholder/_4' with dtype int32 and shape [341]\n",
      "\t [[{{node Placeholder/_4}}]]\n",
      "2023-05-15 16:47:50.060857: I tensorflow/core/common_runtime/executor.cc:1197] [/device:CPU:0] (DEBUG INFO) Executor start aborting (this does not indicate an error and you can ignore this message): INVALID_ARGUMENT: You must feed a value for placeholder tensor 'Placeholder/_4' with dtype int32 and shape [341]\n",
      "\t [[{{node Placeholder/_4}}]]\n"
     ]
    },
    {
     "name": "stdout",
     "output_type": "stream",
     "text": [
      "2/2 [==============================] - 4s 2s/step\n",
      "              precision    recall  f1-score   support\n",
      "\n",
      "           0       0.56      0.46      0.51       194\n",
      "           1       0.42      0.52      0.46       147\n",
      "\n",
      "    accuracy                           0.49       341\n",
      "   macro avg       0.49      0.49      0.49       341\n",
      "weighted avg       0.50      0.49      0.49       341\n",
      "\n"
     ]
    }
   ],
   "source": [
    "y_pred = model.predict(tf_test_dataset)\n",
    "\n",
    "print(classification_report(y_true=labels, y_pred=np.round(np.squeeze(y_pred))))"
   ]
  },
  {
   "cell_type": "code",
   "execution_count": 25,
   "id": "84507aaa-32b5-4a49-8647-2a3412ce8a83",
   "metadata": {
    "tags": []
   },
   "outputs": [],
   "source": [
    "import plotly.express as px"
   ]
  },
  {
   "cell_type": "code",
   "execution_count": 34,
   "id": "1539f1e8-826a-4cd1-8a81-60a738d354ce",
   "metadata": {
    "tags": []
   },
   "outputs": [
    {
     "data": {
      "text/plain": [
       "array([[ 90, 104],\n",
       "       [ 71,  76]])"
      ]
     },
     "execution_count": 34,
     "metadata": {},
     "output_type": "execute_result"
    }
   ],
   "source": [
    "confusion_matrix(labels, np.round(np.squeeze(y_pred))) "
   ]
  },
  {
   "cell_type": "code",
   "execution_count": 38,
   "id": "07d63553-84ea-42d9-a3fd-56dbbaf30b7d",
   "metadata": {
    "tags": []
   },
   "outputs": [
    {
     "data": {
      "text/plain": [
       "194"
      ]
     },
     "execution_count": 38,
     "metadata": {},
     "output_type": "execute_result"
    }
   ],
   "source": [
    "90 104 "
   ]
  },
  {
   "cell_type": "markdown",
   "id": "76e0e930-6ef6-4bf8-9b0c-e6fb29abd75c",
   "metadata": {
    "tags": []
   },
   "source": [
    "# 71 +76"
   ]
  },
  {
   "cell_type": "code",
   "execution_count": 35,
   "id": "6c8507a3-1f08-49e9-bf1a-fe66f1d2257f",
   "metadata": {
    "tags": []
   },
   "outputs": [
    {
     "data": {
      "text/plain": [
       "['BENIGN', 'MALIGNANT']"
      ]
     },
     "execution_count": 35,
     "metadata": {},
     "output_type": "execute_result"
    }
   ],
   "source": [
    "tf_test_dataset.class_names"
   ]
  },
  {
   "cell_type": "code",
   "execution_count": 29,
   "id": "4c9fa32c-bd4c-45aa-b5e5-2541f14178cb",
   "metadata": {
    "tags": []
   },
   "outputs": [
    {
     "data": {
      "image/png": "[encoded data removed]",
      "text/plain": [
       "<Figure size 800x800 with 2 Axes>"
      ]
     },
     "metadata": {},
     "output_type": "display_data"
    }
   ],
   "source": [
    "acc = history.history['accuracy']\n",
    "val_acc = history.history['val_accuracy']\n",
    "\n",
    "loss = history.history['loss']\n",
    "val_loss = history.history['val_loss']\n",
    "\n",
    "plt.figure(figsize=(8, 8))\n",
    "plt.subplot(3, 1, 1)\n",
    "plt.plot(acc, label='Training Accuracy')\n",
    "plt.plot(val_acc, label='Validation Accuracy')\n",
    "plt.legend(loc='lower right')\n",
    "plt.ylabel('Accuracy')\n",
    "plt.ylim([min(plt.ylim()),1])\n",
    "plt.title('Training and Validation Accuracy')\n",
    "\n",
    "plt.subplot(2, 1, 2)\n",
    "plt.plot(loss, label='Training Loss')\n",
    "plt.plot(val_loss, label='Validation Loss')\n",
    "plt.legend(loc='upper right')\n",
    "plt.ylabel('Cross Entropy')\n",
    "plt.title('Training and Validation Loss')\n",
    "plt.xlabel('epoch')\n",
    "plt.show()"
   ]
  },
  {
   "cell_type": "code",
   "execution_count": null,
   "id": "59213537-de7c-49d7-9104-c6e4fe886917",
   "metadata": {},
   "outputs": [],
   "source": []
  },
  {
   "cell_type": "code",
   "execution_count": null,
   "id": "db507bbb-80cb-48ec-bfa8-05c1d2d8c457",
   "metadata": {},
   "outputs": [],
   "source": []
  }
 ],
 "metadata": {
  "kernelspec": {
   "display_name": "Python 3 (ipykernel)",
   "language": "python",
   "name": "python3"
  },
  "language_info": {
   "codemirror_mode": {
    "name": "ipython",
    "version": 3
   },
   "file_extension": ".py",
   "mimetype": "text/x-python",
   "name": "python",
   "nbconvert_exporter": "python",
   "pygments_lexer": "ipython3",
   "version": "3.10.11"
  }
 },
 "nbformat": 4,
 "nbformat_minor": 5
}
