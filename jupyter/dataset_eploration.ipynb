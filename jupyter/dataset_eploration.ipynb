{
 "cells": [
  {
   "cell_type": "code",
   "execution_count": 20,
   "id": "70eb9b2d",
   "metadata": {
    "tags": []
   },
   "outputs": [],
   "source": [
    "import sys\n",
    "sys.path.append(\"../\")"
   ]
  },
  {
   "cell_type": "code",
   "execution_count": 21,
   "id": "a0c5e943-aadd-4482-9205-3c99c068e73d",
   "metadata": {
    "tags": []
   },
   "outputs": [],
   "source": [
    "import os\n",
    "import cv2\n",
    "import numpy as np\n",
    "import pandas as pd\n",
    "from PIL import Image\n",
    "import tensorflow as tf\n",
    "from tensorflow.keras.layers import Dense, Flatten, Input\n",
    "from tensorflow.keras.models import Model\n",
    "from tensorflow.keras.applications.inception_v3 import InceptionV3\n",
    "from sklearn.model_selection import train_test_split\n",
    "import matplotlib.pyplot as plt"
   ]
  },
  {
   "cell_type": "markdown",
   "id": "9094d1a8-dc53-435a-bca9-787ddebd293f",
   "metadata": {
    "tags": []
   },
   "source": [
    "## Reading the CSV and images"
   ]
  },
  {
   "cell_type": "code",
   "execution_count": 23,
   "id": "71929a31-1bd1-4446-973c-7bd8afb46cea",
   "metadata": {
    "tags": []
   },
   "outputs": [],
   "source": [
    "dicom_dataset = pd.read_csv(\"../CBIS-DDSM/csv/dicom_info.csv\")\n",
    "mass_train= pd.read_csv(\"../CBIS-DDSM/csv/mass_case_description_train_set.csv\")\n",
    "mass_test = pd.read_csv(\"../CBIS-DDSM/csv/mass_case_description_test_set.csv\")\n",
    "calc_train = pd.read_csv(\"../CBIS-DDSM/csv/calc_case_description_train_set.csv\")"
   ]
  },
  {
   "cell_type": "code",
   "execution_count": 24,
   "id": "98f7d11f",
   "metadata": {
    "tags": []
   },
   "outputs": [
    {
     "data": {
      "text/plain": [
       "6575"
      ]
     },
     "execution_count": 24,
     "metadata": {},
     "output_type": "execute_result"
    }
   ],
   "source": [
    "dicom_dataset[\"PatientName\"].nunique()"
   ]
  },
  {
   "cell_type": "code",
   "execution_count": 25,
   "id": "1d7cf667-04cf-42e9-8ce4-f46fdcdf94ce",
   "metadata": {
    "tags": []
   },
   "outputs": [
    {
     "data": {
      "text/plain": [
       "array(['Mass-Training_P_00001_LEFT_CC/1.3.6.1.4.1.9590.100.1.2.422112722213189649807611434612228974994/1.3.6.1.4.1.9590.100.1.2.342386194811267636608694132590482924515/000000.dcm',\n",
       "       'Mass-Training_P_00001_LEFT_MLO/1.3.6.1.4.1.9590.100.1.2.319478999311971442426185353560182990988/1.3.6.1.4.1.9590.100.1.2.359308329312397897125630708681441180834/000000.dcm',\n",
       "       'Mass-Training_P_00004_LEFT_CC/1.3.6.1.4.1.9590.100.1.2.347107867812656628709864319310977895697/1.3.6.1.4.1.9590.100.1.2.89180046211022531834352631483669346540/000000.dcm',\n",
       "       ...,\n",
       "       'Mass-Training_P_02079_RIGHT_MLO/1.3.6.1.4.1.9590.100.1.2.79168706212562046504764996222502629838/1.3.6.1.4.1.9590.100.1.2.412558050811722685411988228462651590663/000000.dcm',\n",
       "       'Mass-Training_P_02092_LEFT_CC/1.3.6.1.4.1.9590.100.1.2.420341693811920799600818661313506180250/1.3.6.1.4.1.9590.100.1.2.150311422512072857220647947940958267422/000000.dcm',\n",
       "       'Mass-Training_P_02092_LEFT_MLO/1.3.6.1.4.1.9590.100.1.2.322851018411213611731661082961359065216/1.3.6.1.4.1.9590.100.1.2.290251769212905477734669932883242291615/000000.dcm'],\n",
       "      dtype=object)"
      ]
     },
     "execution_count": 25,
     "metadata": {},
     "output_type": "execute_result"
    }
   ],
   "source": [
    "mass_train[\"image file path\"].values"
   ]
  },
  {
   "cell_type": "code",
   "execution_count": null,
   "id": "5f4cd59a-6286-4250-8eb3-db577fc6caca",
   "metadata": {
    "tags": []
   },
   "outputs": [],
   "source": [
    "image_paths = mass_train[\"image file path\"].values\n",
    "patient_ids = []\n",
    "\n",
    "for image_path in image_paths:\n",
    "    path = os.path.normpath(image_path)\n",
    "    patient_ids.append(path.split(os.sep)[0])\n",
    "    \n",
    "mass_train[\"PatientID\"] = patient_ids"
   ]
  },
  {
   "cell_type": "code",
   "execution_count": 7,
   "id": "cccdeb08-5ba7-4b27-8404-8c2d80906f78",
   "metadata": {
    "tags": []
   },
   "outputs": [],
   "source": [
    "image_paths = mass_test[\"image file path\"].values\n",
    "patient_ids = []\n",
    "\n",
    "for image_path in image_paths:\n",
    "    path = os.path.normpath(image_path)\n",
    "    patient_ids.append(path.split(os.sep)[0])\n",
    "\n",
    "mass_test[\"PatientID\"] = patient_ids"
   ]
  },
  {
   "cell_type": "code",
   "execution_count": 8,
   "id": "739f8d8b",
   "metadata": {
    "tags": []
   },
   "outputs": [],
   "source": [
    "mass_train = mass_train.merge(dicom_dataset[[\"PatientID\", \"image_path\"]], on='PatientID', how='inner')\n",
    "mass_test = mass_test.merge(dicom_dataset[[\"PatientID\", \"image_path\"]], on='PatientID', how='inner')"
   ]
  },
  {
   "cell_type": "code",
   "execution_count": 9,
   "id": "eee264c9",
   "metadata": {
    "tags": []
   },
   "outputs": [],
   "source": [
    "image_paths = mass_train[\"image_path\"].values\n",
    "image_cropped_paths = []\n",
    "\n",
    "for image_path in image_paths:\n",
    "    path = os.path.normpath(image_path)\n",
    "    x = path.split(os.sep)\n",
    "    x[0] = \"../dataset\"\n",
    "    image_cropped_paths.append(os.path.join(*x))\n",
    "    \n",
    "mass_train[\"fixed_image_paths\"] = image_cropped_paths"
   ]
  },
  {
   "cell_type": "code",
   "execution_count": 10,
   "id": "7e339a9a-49a9-4306-8b9b-577be544f33b",
   "metadata": {
    "tags": []
   },
   "outputs": [],
   "source": [
    "image_paths = mass_test[\"image_path\"].values\n",
    "image_cropped_paths = []\n",
    "\n",
    "for image_path in image_paths:\n",
    "    path = os.path.normpath(image_path)\n",
    "    x = path.split(os.sep)\n",
    "    x[0] = \"../dataset\"\n",
    "    image_cropped_paths.append(os.path.join(*x))\n",
    "    \n",
    "mass_test[\"fixed_image_paths\"] = image_cropped_paths"
   ]
  },
  {
   "cell_type": "code",
   "execution_count": 11,
   "id": "7b2a0b8d",
   "metadata": {
    "tags": []
   },
   "outputs": [
    {
     "data": {
      "text/html": [
       "<div>\n",
       "<style scoped>\n",
       "    .dataframe tbody tr th:only-of-type {\n",
       "        vertical-align: middle;\n",
       "    }\n",
       "\n",
       "    .dataframe tbody tr th {\n",
       "        vertical-align: top;\n",
       "    }\n",
       "\n",
       "    .dataframe thead th {\n",
       "        text-align: right;\n",
       "    }\n",
       "</style>\n",
       "<table border=\"1\" class=\"dataframe\">\n",
       "  <thead>\n",
       "    <tr style=\"text-align: right;\">\n",
       "      <th></th>\n",
       "      <th>patient_id</th>\n",
       "      <th>breast_density</th>\n",
       "      <th>left or right breast</th>\n",
       "      <th>image view</th>\n",
       "      <th>abnormality id</th>\n",
       "      <th>abnormality type</th>\n",
       "      <th>mass shape</th>\n",
       "      <th>mass margins</th>\n",
       "      <th>assessment</th>\n",
       "      <th>pathology</th>\n",
       "      <th>subtlety</th>\n",
       "      <th>image file path</th>\n",
       "      <th>cropped image file path</th>\n",
       "      <th>ROI mask file path</th>\n",
       "      <th>PatientID</th>\n",
       "      <th>image_path</th>\n",
       "      <th>fixed_image_paths</th>\n",
       "    </tr>\n",
       "  </thead>\n",
       "  <tbody>\n",
       "    <tr>\n",
       "      <th>0</th>\n",
       "      <td>P_00001</td>\n",
       "      <td>3</td>\n",
       "      <td>LEFT</td>\n",
       "      <td>CC</td>\n",
       "      <td>1</td>\n",
       "      <td>mass</td>\n",
       "      <td>IRREGULAR-ARCHITECTURAL_DISTORTION</td>\n",
       "      <td>SPICULATED</td>\n",
       "      <td>4</td>\n",
       "      <td>MALIGNANT</td>\n",
       "      <td>4</td>\n",
       "      <td>Mass-Training_P_00001_LEFT_CC/1.3.6.1.4.1.9590...</td>\n",
       "      <td>Mass-Training_P_00001_LEFT_CC_1/1.3.6.1.4.1.95...</td>\n",
       "      <td>Mass-Training_P_00001_LEFT_CC_1/1.3.6.1.4.1.95...</td>\n",
       "      <td>Mass-Training_P_00001_LEFT_CC</td>\n",
       "      <td>CBIS-DDSM/jpeg/1.3.6.1.4.1.9590.100.1.2.342386...</td>\n",
       "      <td>../dataset/jpeg/1.3.6.1.4.1.9590.100.1.2.34238...</td>\n",
       "    </tr>\n",
       "    <tr>\n",
       "      <th>1</th>\n",
       "      <td>P_00001</td>\n",
       "      <td>3</td>\n",
       "      <td>LEFT</td>\n",
       "      <td>MLO</td>\n",
       "      <td>1</td>\n",
       "      <td>mass</td>\n",
       "      <td>IRREGULAR-ARCHITECTURAL_DISTORTION</td>\n",
       "      <td>SPICULATED</td>\n",
       "      <td>4</td>\n",
       "      <td>MALIGNANT</td>\n",
       "      <td>4</td>\n",
       "      <td>Mass-Training_P_00001_LEFT_MLO/1.3.6.1.4.1.959...</td>\n",
       "      <td>Mass-Training_P_00001_LEFT_MLO_1/1.3.6.1.4.1.9...</td>\n",
       "      <td>Mass-Training_P_00001_LEFT_MLO_1/1.3.6.1.4.1.9...</td>\n",
       "      <td>Mass-Training_P_00001_LEFT_MLO</td>\n",
       "      <td>CBIS-DDSM/jpeg/1.3.6.1.4.1.9590.100.1.2.359308...</td>\n",
       "      <td>../dataset/jpeg/1.3.6.1.4.1.9590.100.1.2.35930...</td>\n",
       "    </tr>\n",
       "    <tr>\n",
       "      <th>2</th>\n",
       "      <td>P_00004</td>\n",
       "      <td>3</td>\n",
       "      <td>LEFT</td>\n",
       "      <td>CC</td>\n",
       "      <td>1</td>\n",
       "      <td>mass</td>\n",
       "      <td>ARCHITECTURAL_DISTORTION</td>\n",
       "      <td>ILL_DEFINED</td>\n",
       "      <td>4</td>\n",
       "      <td>BENIGN</td>\n",
       "      <td>3</td>\n",
       "      <td>Mass-Training_P_00004_LEFT_CC/1.3.6.1.4.1.9590...</td>\n",
       "      <td>Mass-Training_P_00004_LEFT_CC_1/1.3.6.1.4.1.95...</td>\n",
       "      <td>Mass-Training_P_00004_LEFT_CC_1/1.3.6.1.4.1.95...</td>\n",
       "      <td>Mass-Training_P_00004_LEFT_CC</td>\n",
       "      <td>CBIS-DDSM/jpeg/1.3.6.1.4.1.9590.100.1.2.891800...</td>\n",
       "      <td>../dataset/jpeg/1.3.6.1.4.1.9590.100.1.2.89180...</td>\n",
       "    </tr>\n",
       "    <tr>\n",
       "      <th>3</th>\n",
       "      <td>P_00004</td>\n",
       "      <td>3</td>\n",
       "      <td>LEFT</td>\n",
       "      <td>MLO</td>\n",
       "      <td>1</td>\n",
       "      <td>mass</td>\n",
       "      <td>ARCHITECTURAL_DISTORTION</td>\n",
       "      <td>ILL_DEFINED</td>\n",
       "      <td>4</td>\n",
       "      <td>BENIGN</td>\n",
       "      <td>3</td>\n",
       "      <td>Mass-Training_P_00004_LEFT_MLO/1.3.6.1.4.1.959...</td>\n",
       "      <td>Mass-Training_P_00004_LEFT_MLO_1/1.3.6.1.4.1.9...</td>\n",
       "      <td>Mass-Training_P_00004_LEFT_MLO_1/1.3.6.1.4.1.9...</td>\n",
       "      <td>Mass-Training_P_00004_LEFT_MLO</td>\n",
       "      <td>CBIS-DDSM/jpeg/1.3.6.1.4.1.9590.100.1.2.295360...</td>\n",
       "      <td>../dataset/jpeg/1.3.6.1.4.1.9590.100.1.2.29536...</td>\n",
       "    </tr>\n",
       "    <tr>\n",
       "      <th>4</th>\n",
       "      <td>P_00004</td>\n",
       "      <td>3</td>\n",
       "      <td>RIGHT</td>\n",
       "      <td>MLO</td>\n",
       "      <td>1</td>\n",
       "      <td>mass</td>\n",
       "      <td>OVAL</td>\n",
       "      <td>CIRCUMSCRIBED</td>\n",
       "      <td>4</td>\n",
       "      <td>BENIGN</td>\n",
       "      <td>5</td>\n",
       "      <td>Mass-Training_P_00004_RIGHT_MLO/1.3.6.1.4.1.95...</td>\n",
       "      <td>Mass-Training_P_00004_RIGHT_MLO_1/1.3.6.1.4.1....</td>\n",
       "      <td>Mass-Training_P_00004_RIGHT_MLO_1/1.3.6.1.4.1....</td>\n",
       "      <td>Mass-Training_P_00004_RIGHT_MLO</td>\n",
       "      <td>CBIS-DDSM/jpeg/1.3.6.1.4.1.9590.100.1.2.410524...</td>\n",
       "      <td>../dataset/jpeg/1.3.6.1.4.1.9590.100.1.2.41052...</td>\n",
       "    </tr>\n",
       "  </tbody>\n",
       "</table>\n",
       "</div>"
      ],
      "text/plain": [
       "  patient_id  breast_density left or right breast image view  abnormality id   \n",
       "0    P_00001               3                 LEFT         CC               1  \\\n",
       "1    P_00001               3                 LEFT        MLO               1   \n",
       "2    P_00004               3                 LEFT         CC               1   \n",
       "3    P_00004               3                 LEFT        MLO               1   \n",
       "4    P_00004               3                RIGHT        MLO               1   \n",
       "\n",
       "  abnormality type                          mass shape   mass margins   \n",
       "0             mass  IRREGULAR-ARCHITECTURAL_DISTORTION     SPICULATED  \\\n",
       "1             mass  IRREGULAR-ARCHITECTURAL_DISTORTION     SPICULATED   \n",
       "2             mass            ARCHITECTURAL_DISTORTION    ILL_DEFINED   \n",
       "3             mass            ARCHITECTURAL_DISTORTION    ILL_DEFINED   \n",
       "4             mass                                OVAL  CIRCUMSCRIBED   \n",
       "\n",
       "   assessment  pathology  subtlety   \n",
       "0           4  MALIGNANT         4  \\\n",
       "1           4  MALIGNANT         4   \n",
       "2           4     BENIGN         3   \n",
       "3           4     BENIGN         3   \n",
       "4           4     BENIGN         5   \n",
       "\n",
       "                                     image file path   \n",
       "0  Mass-Training_P_00001_LEFT_CC/1.3.6.1.4.1.9590...  \\\n",
       "1  Mass-Training_P_00001_LEFT_MLO/1.3.6.1.4.1.959...   \n",
       "2  Mass-Training_P_00004_LEFT_CC/1.3.6.1.4.1.9590...   \n",
       "3  Mass-Training_P_00004_LEFT_MLO/1.3.6.1.4.1.959...   \n",
       "4  Mass-Training_P_00004_RIGHT_MLO/1.3.6.1.4.1.95...   \n",
       "\n",
       "                             cropped image file path   \n",
       "0  Mass-Training_P_00001_LEFT_CC_1/1.3.6.1.4.1.95...  \\\n",
       "1  Mass-Training_P_00001_LEFT_MLO_1/1.3.6.1.4.1.9...   \n",
       "2  Mass-Training_P_00004_LEFT_CC_1/1.3.6.1.4.1.95...   \n",
       "3  Mass-Training_P_00004_LEFT_MLO_1/1.3.6.1.4.1.9...   \n",
       "4  Mass-Training_P_00004_RIGHT_MLO_1/1.3.6.1.4.1....   \n",
       "\n",
       "                                  ROI mask file path   \n",
       "0  Mass-Training_P_00001_LEFT_CC_1/1.3.6.1.4.1.95...  \\\n",
       "1  Mass-Training_P_00001_LEFT_MLO_1/1.3.6.1.4.1.9...   \n",
       "2  Mass-Training_P_00004_LEFT_CC_1/1.3.6.1.4.1.95...   \n",
       "3  Mass-Training_P_00004_LEFT_MLO_1/1.3.6.1.4.1.9...   \n",
       "4  Mass-Training_P_00004_RIGHT_MLO_1/1.3.6.1.4.1....   \n",
       "\n",
       "                         PatientID   \n",
       "0    Mass-Training_P_00001_LEFT_CC  \\\n",
       "1   Mass-Training_P_00001_LEFT_MLO   \n",
       "2    Mass-Training_P_00004_LEFT_CC   \n",
       "3   Mass-Training_P_00004_LEFT_MLO   \n",
       "4  Mass-Training_P_00004_RIGHT_MLO   \n",
       "\n",
       "                                          image_path   \n",
       "0  CBIS-DDSM/jpeg/1.3.6.1.4.1.9590.100.1.2.342386...  \\\n",
       "1  CBIS-DDSM/jpeg/1.3.6.1.4.1.9590.100.1.2.359308...   \n",
       "2  CBIS-DDSM/jpeg/1.3.6.1.4.1.9590.100.1.2.891800...   \n",
       "3  CBIS-DDSM/jpeg/1.3.6.1.4.1.9590.100.1.2.295360...   \n",
       "4  CBIS-DDSM/jpeg/1.3.6.1.4.1.9590.100.1.2.410524...   \n",
       "\n",
       "                                   fixed_image_paths  \n",
       "0  ../dataset/jpeg/1.3.6.1.4.1.9590.100.1.2.34238...  \n",
       "1  ../dataset/jpeg/1.3.6.1.4.1.9590.100.1.2.35930...  \n",
       "2  ../dataset/jpeg/1.3.6.1.4.1.9590.100.1.2.89180...  \n",
       "3  ../dataset/jpeg/1.3.6.1.4.1.9590.100.1.2.29536...  \n",
       "4  ../dataset/jpeg/1.3.6.1.4.1.9590.100.1.2.41052...  "
      ]
     },
     "execution_count": 11,
     "metadata": {},
     "output_type": "execute_result"
    }
   ],
   "source": [
    "mass_train.head()"
   ]
  },
  {
   "cell_type": "code",
   "execution_count": 13,
   "id": "dfef8e20-9164-4275-891b-d9e5e29d5304",
   "metadata": {
    "tags": []
   },
   "outputs": [
    {
     "data": {
      "text/html": [
       "<div>\n",
       "<style scoped>\n",
       "    .dataframe tbody tr th:only-of-type {\n",
       "        vertical-align: middle;\n",
       "    }\n",
       "\n",
       "    .dataframe tbody tr th {\n",
       "        vertical-align: top;\n",
       "    }\n",
       "\n",
       "    .dataframe thead th {\n",
       "        text-align: right;\n",
       "    }\n",
       "</style>\n",
       "<table border=\"1\" class=\"dataframe\">\n",
       "  <thead>\n",
       "    <tr style=\"text-align: right;\">\n",
       "      <th></th>\n",
       "      <th>patient_id</th>\n",
       "      <th>breast_density</th>\n",
       "      <th>left or right breast</th>\n",
       "      <th>image view</th>\n",
       "      <th>abnormality id</th>\n",
       "      <th>abnormality type</th>\n",
       "      <th>mass shape</th>\n",
       "      <th>mass margins</th>\n",
       "      <th>assessment</th>\n",
       "      <th>pathology</th>\n",
       "      <th>subtlety</th>\n",
       "      <th>image file path</th>\n",
       "      <th>cropped image file path</th>\n",
       "      <th>ROI mask file path</th>\n",
       "      <th>PatientID</th>\n",
       "      <th>image_path</th>\n",
       "      <th>fixed_image_paths</th>\n",
       "    </tr>\n",
       "  </thead>\n",
       "  <tbody>\n",
       "    <tr>\n",
       "      <th>0</th>\n",
       "      <td>P_00016</td>\n",
       "      <td>4</td>\n",
       "      <td>LEFT</td>\n",
       "      <td>CC</td>\n",
       "      <td>1</td>\n",
       "      <td>mass</td>\n",
       "      <td>IRREGULAR</td>\n",
       "      <td>SPICULATED</td>\n",
       "      <td>5</td>\n",
       "      <td>MALIGNANT</td>\n",
       "      <td>5</td>\n",
       "      <td>Mass-Test_P_00016_LEFT_CC/1.3.6.1.4.1.9590.100...</td>\n",
       "      <td>Mass-Test_P_00016_LEFT_CC_1/1.3.6.1.4.1.9590.1...</td>\n",
       "      <td>Mass-Test_P_00016_LEFT_CC_1/1.3.6.1.4.1.9590.1...</td>\n",
       "      <td>Mass-Test_P_00016_LEFT_CC</td>\n",
       "      <td>CBIS-DDSM/jpeg/1.3.6.1.4.1.9590.100.1.2.245063...</td>\n",
       "      <td>../dataset/jpeg/1.3.6.1.4.1.9590.100.1.2.24506...</td>\n",
       "    </tr>\n",
       "    <tr>\n",
       "      <th>1</th>\n",
       "      <td>P_00016</td>\n",
       "      <td>4</td>\n",
       "      <td>LEFT</td>\n",
       "      <td>MLO</td>\n",
       "      <td>1</td>\n",
       "      <td>mass</td>\n",
       "      <td>IRREGULAR</td>\n",
       "      <td>SPICULATED</td>\n",
       "      <td>5</td>\n",
       "      <td>MALIGNANT</td>\n",
       "      <td>5</td>\n",
       "      <td>Mass-Test_P_00016_LEFT_MLO/1.3.6.1.4.1.9590.10...</td>\n",
       "      <td>Mass-Test_P_00016_LEFT_MLO_1/1.3.6.1.4.1.9590....</td>\n",
       "      <td>Mass-Test_P_00016_LEFT_MLO_1/1.3.6.1.4.1.9590....</td>\n",
       "      <td>Mass-Test_P_00016_LEFT_MLO</td>\n",
       "      <td>CBIS-DDSM/jpeg/1.3.6.1.4.1.9590.100.1.2.859522...</td>\n",
       "      <td>../dataset/jpeg/1.3.6.1.4.1.9590.100.1.2.85952...</td>\n",
       "    </tr>\n",
       "    <tr>\n",
       "      <th>2</th>\n",
       "      <td>P_00017</td>\n",
       "      <td>2</td>\n",
       "      <td>LEFT</td>\n",
       "      <td>CC</td>\n",
       "      <td>1</td>\n",
       "      <td>mass</td>\n",
       "      <td>ROUND</td>\n",
       "      <td>CIRCUMSCRIBED</td>\n",
       "      <td>4</td>\n",
       "      <td>MALIGNANT</td>\n",
       "      <td>4</td>\n",
       "      <td>Mass-Test_P_00017_LEFT_CC/1.3.6.1.4.1.9590.100...</td>\n",
       "      <td>Mass-Test_P_00017_LEFT_CC_1/1.3.6.1.4.1.9590.1...</td>\n",
       "      <td>Mass-Test_P_00017_LEFT_CC_1/1.3.6.1.4.1.9590.1...</td>\n",
       "      <td>Mass-Test_P_00017_LEFT_CC</td>\n",
       "      <td>CBIS-DDSM/jpeg/1.3.6.1.4.1.9590.100.1.2.221311...</td>\n",
       "      <td>../dataset/jpeg/1.3.6.1.4.1.9590.100.1.2.22131...</td>\n",
       "    </tr>\n",
       "    <tr>\n",
       "      <th>3</th>\n",
       "      <td>P_00017</td>\n",
       "      <td>2</td>\n",
       "      <td>LEFT</td>\n",
       "      <td>MLO</td>\n",
       "      <td>1</td>\n",
       "      <td>mass</td>\n",
       "      <td>ROUND</td>\n",
       "      <td>ILL_DEFINED</td>\n",
       "      <td>4</td>\n",
       "      <td>MALIGNANT</td>\n",
       "      <td>4</td>\n",
       "      <td>Mass-Test_P_00017_LEFT_MLO/1.3.6.1.4.1.9590.10...</td>\n",
       "      <td>Mass-Test_P_00017_LEFT_MLO_1/1.3.6.1.4.1.9590....</td>\n",
       "      <td>Mass-Test_P_00017_LEFT_MLO_1/1.3.6.1.4.1.9590....</td>\n",
       "      <td>Mass-Test_P_00017_LEFT_MLO</td>\n",
       "      <td>CBIS-DDSM/jpeg/1.3.6.1.4.1.9590.100.1.2.239949...</td>\n",
       "      <td>../dataset/jpeg/1.3.6.1.4.1.9590.100.1.2.23994...</td>\n",
       "    </tr>\n",
       "    <tr>\n",
       "      <th>4</th>\n",
       "      <td>P_00032</td>\n",
       "      <td>3</td>\n",
       "      <td>RIGHT</td>\n",
       "      <td>CC</td>\n",
       "      <td>1</td>\n",
       "      <td>mass</td>\n",
       "      <td>ROUND</td>\n",
       "      <td>OBSCURED</td>\n",
       "      <td>0</td>\n",
       "      <td>BENIGN</td>\n",
       "      <td>2</td>\n",
       "      <td>Mass-Test_P_00032_RIGHT_CC/1.3.6.1.4.1.9590.10...</td>\n",
       "      <td>Mass-Test_P_00032_RIGHT_CC_1/1.3.6.1.4.1.9590....</td>\n",
       "      <td>Mass-Test_P_00032_RIGHT_CC_1/1.3.6.1.4.1.9590....</td>\n",
       "      <td>Mass-Test_P_00032_RIGHT_CC</td>\n",
       "      <td>CBIS-DDSM/jpeg/1.3.6.1.4.1.9590.100.1.2.215081...</td>\n",
       "      <td>../dataset/jpeg/1.3.6.1.4.1.9590.100.1.2.21508...</td>\n",
       "    </tr>\n",
       "  </tbody>\n",
       "</table>\n",
       "</div>"
      ],
      "text/plain": [
       "  patient_id  breast_density left or right breast image view  abnormality id   \n",
       "0    P_00016               4                 LEFT         CC               1  \\\n",
       "1    P_00016               4                 LEFT        MLO               1   \n",
       "2    P_00017               2                 LEFT         CC               1   \n",
       "3    P_00017               2                 LEFT        MLO               1   \n",
       "4    P_00032               3                RIGHT         CC               1   \n",
       "\n",
       "  abnormality type mass shape   mass margins  assessment  pathology  subtlety   \n",
       "0             mass  IRREGULAR     SPICULATED           5  MALIGNANT         5  \\\n",
       "1             mass  IRREGULAR     SPICULATED           5  MALIGNANT         5   \n",
       "2             mass      ROUND  CIRCUMSCRIBED           4  MALIGNANT         4   \n",
       "3             mass      ROUND    ILL_DEFINED           4  MALIGNANT         4   \n",
       "4             mass      ROUND       OBSCURED           0     BENIGN         2   \n",
       "\n",
       "                                     image file path   \n",
       "0  Mass-Test_P_00016_LEFT_CC/1.3.6.1.4.1.9590.100...  \\\n",
       "1  Mass-Test_P_00016_LEFT_MLO/1.3.6.1.4.1.9590.10...   \n",
       "2  Mass-Test_P_00017_LEFT_CC/1.3.6.1.4.1.9590.100...   \n",
       "3  Mass-Test_P_00017_LEFT_MLO/1.3.6.1.4.1.9590.10...   \n",
       "4  Mass-Test_P_00032_RIGHT_CC/1.3.6.1.4.1.9590.10...   \n",
       "\n",
       "                             cropped image file path   \n",
       "0  Mass-Test_P_00016_LEFT_CC_1/1.3.6.1.4.1.9590.1...  \\\n",
       "1  Mass-Test_P_00016_LEFT_MLO_1/1.3.6.1.4.1.9590....   \n",
       "2  Mass-Test_P_00017_LEFT_CC_1/1.3.6.1.4.1.9590.1...   \n",
       "3  Mass-Test_P_00017_LEFT_MLO_1/1.3.6.1.4.1.9590....   \n",
       "4  Mass-Test_P_00032_RIGHT_CC_1/1.3.6.1.4.1.9590....   \n",
       "\n",
       "                                  ROI mask file path   \n",
       "0  Mass-Test_P_00016_LEFT_CC_1/1.3.6.1.4.1.9590.1...  \\\n",
       "1  Mass-Test_P_00016_LEFT_MLO_1/1.3.6.1.4.1.9590....   \n",
       "2  Mass-Test_P_00017_LEFT_CC_1/1.3.6.1.4.1.9590.1...   \n",
       "3  Mass-Test_P_00017_LEFT_MLO_1/1.3.6.1.4.1.9590....   \n",
       "4  Mass-Test_P_00032_RIGHT_CC_1/1.3.6.1.4.1.9590....   \n",
       "\n",
       "                    PatientID   \n",
       "0   Mass-Test_P_00016_LEFT_CC  \\\n",
       "1  Mass-Test_P_00016_LEFT_MLO   \n",
       "2   Mass-Test_P_00017_LEFT_CC   \n",
       "3  Mass-Test_P_00017_LEFT_MLO   \n",
       "4  Mass-Test_P_00032_RIGHT_CC   \n",
       "\n",
       "                                          image_path   \n",
       "0  CBIS-DDSM/jpeg/1.3.6.1.4.1.9590.100.1.2.245063...  \\\n",
       "1  CBIS-DDSM/jpeg/1.3.6.1.4.1.9590.100.1.2.859522...   \n",
       "2  CBIS-DDSM/jpeg/1.3.6.1.4.1.9590.100.1.2.221311...   \n",
       "3  CBIS-DDSM/jpeg/1.3.6.1.4.1.9590.100.1.2.239949...   \n",
       "4  CBIS-DDSM/jpeg/1.3.6.1.4.1.9590.100.1.2.215081...   \n",
       "\n",
       "                                   fixed_image_paths  \n",
       "0  ../dataset/jpeg/1.3.6.1.4.1.9590.100.1.2.24506...  \n",
       "1  ../dataset/jpeg/1.3.6.1.4.1.9590.100.1.2.85952...  \n",
       "2  ../dataset/jpeg/1.3.6.1.4.1.9590.100.1.2.22131...  \n",
       "3  ../dataset/jpeg/1.3.6.1.4.1.9590.100.1.2.23994...  \n",
       "4  ../dataset/jpeg/1.3.6.1.4.1.9590.100.1.2.21508...  "
      ]
     },
     "execution_count": 13,
     "metadata": {},
     "output_type": "execute_result"
    }
   ],
   "source": [
    "mass_test.head()"
   ]
  },
  {
   "cell_type": "code",
   "execution_count": 18,
   "id": "0198843f",
   "metadata": {
    "tags": []
   },
   "outputs": [],
   "source": [
    "train_dataset = mass_train[[\"PatientID\", \"pathology\", \"fixed_image_paths\"]].loc[mass_train['pathology'].isin([\"MALIGNANT\", \"BENIGN\"])]\n",
    "test_dataset = mass_test[[\"PatientID\", \"pathology\", \"fixed_image_paths\"]].loc[mass_test['pathology'].isin([\"MALIGNANT\", \"BENIGN\"])]"
   ]
  },
  {
   "cell_type": "code",
   "execution_count": 19,
   "id": "031c80a9-18f5-419b-adf4-f4ba89f2169c",
   "metadata": {
    "tags": []
   },
   "outputs": [],
   "source": [
    "train_dataset.to_csv(\"../dataset/csv/train.csv\")\n",
    "test_dataset.to_csv(\"../dataset/csv/test.csv\")"
   ]
  },
  {
   "cell_type": "code",
   "execution_count": 13,
   "id": "ce58fe55-f480-4882-a12b-0a041f283d46",
   "metadata": {
    "tags": []
   },
   "outputs": [],
   "source": [
    "train_labels = pd.factorize(train_dataset[\"pathology\"].values)[0]\n",
    "test_labels = pd.factorize(test_dataset[\"pathology\"].values)[0]\n",
    "train_dataset[\"labels\"] = train_labels\n",
    "test_dataset[\"labels\"] = test_labels"
   ]
  },
  {
   "cell_type": "code",
   "execution_count": 14,
   "id": "70124675",
   "metadata": {
    "tags": []
   },
   "outputs": [
    {
     "name": "stdout",
     "output_type": "stream",
     "text": [
      "Metal device set to: Apple M1\n"
     ]
    },
    {
     "name": "stderr",
     "output_type": "stream",
     "text": [
      "2023-04-24 13:18:31.072628: I tensorflow/core/common_runtime/pluggable_device/pluggable_device_factory.cc:306] Could not identify NUMA node of platform GPU ID 0, defaulting to 0. Your kernel may not have been built with NUMA support.\n",
      "2023-04-24 13:18:31.072674: I tensorflow/core/common_runtime/pluggable_device/pluggable_device_factory.cc:272] Created TensorFlow device (/job:localhost/replica:0/task:0/device:GPU:0 with 0 MB memory) -> physical PluggableDevice (device: 0, name: METAL, pci bus id: <undefined>)\n"
     ]
    }
   ],
   "source": [
    "images = []\n",
    "for i, image_path in enumerate(train_dataset[\"fixed_image_paths\"].values):\n",
    "    image = cv2.cvtColor(cv2.imread(image_path), cv2.COLOR_BGR2RGB)\n",
    "    image = tf.image.resize(image, (229, 229)).numpy().astype(np.uint8)/255.0\n",
    "    images.append(image)\n",
    "    \n",
    "X_train = np.array(images)\n",
    "Y_train = train_dataset[\"labels\"].values"
   ]
  },
  {
   "cell_type": "code",
   "execution_count": 15,
   "id": "578cfee5-563e-4b28-b75a-8eb34a9daec1",
   "metadata": {
    "tags": []
   },
   "outputs": [],
   "source": [
    "images = []\n",
    "for i, image_path in enumerate(test_dataset[\"fixed_image_paths\"].values):\n",
    "    image = cv2.cvtColor(cv2.imread(image_path), cv2.COLOR_BGR2RGB)\n",
    "    image = tf.image.resize(image, (229, 229)).numpy().astype(np.uint8)/255.0\n",
    "    images.append(image)\n",
    "    \n",
    "X_test = np.array(images)\n",
    "Y_test = test_dataset[\"labels\"].values"
   ]
  },
  {
   "cell_type": "code",
   "execution_count": 38,
   "id": "3ac11cdb-b652-4c1a-8db3-26d81b6b7081",
   "metadata": {
    "tags": []
   },
   "outputs": [],
   "source": [
    "model = tf.keras.applications.inception_v3.InceptionV3(include_top=False, input_shape=(229, 229, 3),  weights='imagenet')\n",
    "for layer in model.layers:\n",
    "    layer.trainable = False\n",
    "\n",
    "x = Flatten()(model.output)\n",
    "x = tf.keras.layers.Dropout(0.4)(x)\n",
    "x = Dense(128, activation='relu')(x)\n",
    "x = tf.keras.layers.Dropout(0.3)(x)\n",
    "x = Dense(128, activation='relu')(x)\n",
    "x = tf.keras.layers.Dropout(0.4)(x)\n",
    "x = Dense(32, activation='relu')(x)\n",
    "x = Dense(1, activation='sigmoid')(x)\n",
    "\n",
    "model = Model(model.input, x)\n",
    "\n",
    "model.compile(loss='binary_crossentropy', optimizer=tf.keras.optimizers.Adam(learning_rate=1e-5), metrics=['accuracy', tf.keras.metrics.AUC()])"
   ]
  },
  {
   "cell_type": "code",
   "execution_count": 1,
   "id": "2fec6a3f-73fc-4eb5-a69e-a7ea070955f4",
   "metadata": {
    "tags": []
   },
   "outputs": [
    {
     "ename": "NameError",
     "evalue": "name 'model' is not defined",
     "output_type": "error",
     "traceback": [
      "\u001b[0;31m---------------------------------------------------------------------------\u001b[0m",
      "\u001b[0;31mNameError\u001b[0m                                 Traceback (most recent call last)",
      "Cell \u001b[0;32mIn[1], line 1\u001b[0m\n\u001b[0;32m----> 1\u001b[0m history \u001b[38;5;241m=\u001b[39m \u001b[43mmodel\u001b[49m\u001b[38;5;241m.\u001b[39mfit(tf_train_dataset,\n\u001b[1;32m      2\u001b[0m                     epochs\u001b[38;5;241m=\u001b[39m\u001b[38;5;241m20\u001b[39m,\n\u001b[1;32m      3\u001b[0m                     validation_data\u001b[38;5;241m=\u001b[39mtf_validation_dataset)\n",
      "\u001b[0;31mNameError\u001b[0m: name 'model' is not defined"
     ]
    }
   ],
   "source": [
    "history = model.fit(x=X_train, y=Y_train, epochs=50, batch_size=32, validation_data=(X_test, Y_test))"
   ]
  },
  {
   "cell_type": "code",
   "execution_count": 52,
   "id": "9fb8f571-97db-482d-9300-c72e9e7776fc",
   "metadata": {
    "tags": []
   },
   "outputs": [
    {
     "data": {
      "image/png": "[encoded data removed]",
      "text/plain": [
       "<Figure size 800x800 with 2 Axes>"
      ]
     },
     "metadata": {},
     "output_type": "display_data"
    }
   ],
   "source": [
    "acc = history.history['accuracy']\n",
    "val_acc = history.history['val_accuracy']\n",
    "\n",
    "loss = history.history['loss']\n",
    "val_loss = history.history['val_loss']\n",
    "\n",
    "auc = history.history['auc_5']\n",
    "val_auc = history.history['val_auc_5']\n",
    "\n",
    "plt.figure(figsize=(8, 8))\n",
    "plt.subplot(3, 1, 1)\n",
    "plt.plot(acc, label='Training Accuracy')\n",
    "plt.plot(val_acc, label='Validation Accuracy')\n",
    "plt.legend(loc='lower right')\n",
    "plt.ylabel('Accuracy')\n",
    "plt.ylim([min(plt.ylim()),1])\n",
    "plt.title('Training and Validation Accuracy')\n",
    "\n",
    "plt.subplot(2, 1, 2)\n",
    "plt.plot(loss, label='Training Loss')\n",
    "plt.plot(val_loss, label='Validation Loss')\n",
    "plt.legend(loc='upper right')\n",
    "plt.ylabel('Cross Entropy')\n",
    "plt.ylim([0,1.0])\n",
    "plt.title('Training and Validation Loss')\n",
    "plt.xlabel('epoch')\n",
    "plt.show()"
   ]
  },
  {
   "cell_type": "code",
   "execution_count": 57,
   "id": "4bb63f1a-881c-4de3-8e7d-5ce5513ddc5b",
   "metadata": {},
   "outputs": [
    {
     "data": {
      "image/png": "[encoded data removed]",
      "text/plain": [
       "<Figure size 640x480 with 1 Axes>"
      ]
     },
     "metadata": {},
     "output_type": "display_data"
    }
   ],
   "source": [
    "plt.plot(auc, label='Training AUC')\n",
    "plt.plot(val_auc, label='Validation AUC')\n",
    "plt.legend(loc='upper right')\n",
    "plt.ylabel('AUC')\n",
    "plt.ylim([0,1.0])\n",
    "plt.title('Training and Validation AUC')\n",
    "plt.xlabel('epoch')\n",
    "plt.show()"
   ]
  },
  {
   "cell_type": "code",
   "execution_count": null,
   "id": "c5baff8d-395c-4ba9-b81e-4a13b9015912",
   "metadata": {},
   "outputs": [],
   "source": []
  }
 ],
 "metadata": {
  "kernelspec": {
   "display_name": "Python 3 (ipykernel)",
   "language": "python",
   "name": "python3"
  },
  "language_info": {
   "codemirror_mode": {
    "name": "ipython",
    "version": 3
   },
   "file_extension": ".py",
   "mimetype": "text/x-python",
   "name": "python",
   "nbconvert_exporter": "python",
   "pygments_lexer": "ipython3",
   "version": "3.10.11"
  }
 },
 "nbformat": 4,
 "nbformat_minor": 5
}
