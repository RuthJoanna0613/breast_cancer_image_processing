{
 "cells": [
  {
   "cell_type": "code",
   "execution_count": 1,
   "id": "5ef67e23-d061-46c9-915e-5df018800242",
   "metadata": {
    "tags": []
   },
   "outputs": [],
   "source": [
    "import sys\n",
    "import os\n",
    "import warnings\n",
    "\n",
    "sys.path.append(\"../\")\n",
    "warnings.filterwarnings('ignore')"
   ]
  },
  {
   "cell_type": "code",
   "execution_count": 2,
   "id": "2942a1ca-27d4-4e23-9dd9-b4f0e4b7ece1",
   "metadata": {
    "tags": []
   },
   "outputs": [
    {
     "name": "stderr",
     "output_type": "stream",
     "text": [
      "2023-05-05 00:37:43.602293: I tensorflow/core/platform/cpu_feature_guard.cc:182] This TensorFlow binary is optimized to use available CPU instructions in performance-critical operations.\n",
      "To enable the following instructions: SSE4.1 SSE4.2, in other operations, rebuild TensorFlow with the appropriate compiler flags.\n"
     ]
    }
   ],
   "source": [
    "import numpy as np\n",
    "import pandas as pd\n",
    "import tensorflow as tf\n",
    "import cv2\n",
    "from sklearn.model_selection import train_test_split\n",
    "import matplotlib.pyplot as plt"
   ]
  },
  {
   "cell_type": "code",
   "execution_count": 3,
   "id": "94d4de3c-d5be-4965-8757-dd0b3c94926e",
   "metadata": {},
   "outputs": [],
   "source": [
    "mass_train = pd.read_csv(\"../CBIS-DDSM/csv/mass_train_updated.csv\", index_col=0).drop(columns=[\"index\"], axis=1)\n",
    "mass_test = pd.read_csv(\"../CBIS-DDSM/csv/mass_test_updated.csv\", index_col=0).drop(columns=[\"index\"], axis=1)\n",
    "calc_train = pd.read_csv(\"../CBIS-DDSM/csv/calc_train_updated.csv\", index_col=0).drop(columns=[\"index\"], axis=1)\n",
    "calc_test = pd.read_csv(\"../CBIS-DDSM/csv/calc_test_updated.csv\", index_col=0).drop(columns=[\"index\"], axis=1)\n",
    "train_df = pd.read_csv(\"../CBIS-DDSM/csv/combined_train_df.csv\", index_col=0).drop(columns=[\"index\"], axis=1)\n",
    "test_df = pd.read_csv(\"../CBIS-DDSM/csv/combined_test_df.csv\", index_col=0).drop(columns=[\"index\"], axis=1)"
   ]
  },
  {
   "cell_type": "markdown",
   "id": "0ababacd-6d89-44b9-a2a4-b289dd6d5917",
   "metadata": {},
   "source": [
    "#### Creating new directory"
   ]
  },
  {
   "cell_type": "code",
   "execution_count": 4,
   "id": "24e5f62c-f0eb-4b18-8d8a-705e5816dfff",
   "metadata": {
    "tags": []
   },
   "outputs": [],
   "source": [
    "mass_dataset_path = \"../image_dataset/mass_dataset\"\n",
    "calc_dataset_path = \"../image_dataset/calc_dataset\"\n",
    "combined_dataset_path = \"../image_dataset/combined_dataset/cropped_images\"\n",
    "\n",
    "if not os.path.exists(mass_dataset_path):\n",
    "    os.makedirs(mass_dataset_path)\n",
    "\n",
    "if not os.path.exists(calc_dataset_path):\n",
    "    os.makedirs(calc_dataset_path)\n",
    "\n",
    "folders_path = [\"full_images\", \"cropped_images\", \"roi_images\"]\n",
    "\n",
    "for path in folders_path:\n",
    "    full_path = os.path.join(mass_dataset_path, path)\n",
    "    if not os.path.exists(full_path):\n",
    "        os.makedirs(full_path)\n",
    "        os.makedirs(os.path.join(full_path, \"train\"))\n",
    "        os.makedirs(os.path.join(full_path, \"train\", \"MALIGNANT\"))\n",
    "        os.makedirs(os.path.join(full_path, \"train\", \"BENIGN\"))\n",
    "        os.makedirs(os.path.join(full_path, \"validation\"))\n",
    "        os.makedirs(os.path.join(full_path, \"validation\", \"MALIGNANT\"))\n",
    "        os.makedirs(os.path.join(full_path, \"validation\", \"BENIGN\"))\n",
    "        os.makedirs(os.path.join(full_path, \"test\", \"MALIGNANT\"))\n",
    "        os.makedirs(os.path.join(full_path, \"test\", \"BENIGN\"))\n",
    "\n",
    "for path in folders_path:\n",
    "    full_path = os.path.join(calc_dataset_path, path)\n",
    "    if not os.path.exists(full_path):\n",
    "        os.makedirs(full_path)\n",
    "        os.makedirs(os.path.join(full_path, \"train\"))\n",
    "        os.makedirs(os.path.join(full_path, \"train\", \"MALIGNANT\"))\n",
    "        os.makedirs(os.path.join(full_path, \"train\", \"BENIGN\"))\n",
    "        os.makedirs(os.path.join(full_path, \"validation\"))\n",
    "        os.makedirs(os.path.join(full_path, \"validation\", \"MALIGNANT\"))\n",
    "        os.makedirs(os.path.join(full_path, \"validation\", \"BENIGN\"))\n",
    "        os.makedirs(os.path.join(full_path, \"test\", \"MALIGNANT\"))\n",
    "        os.makedirs(os.path.join(full_path, \"test\", \"BENIGN\"))\n",
    "        \n",
    "    \n",
    "if not os.path.exists(combined_dataset_path):\n",
    "    os.makedirs(combined_dataset_path)\n",
    "    os.makedirs(os.path.join(combined_dataset_path, \"train\"))\n",
    "    os.makedirs(os.path.join(combined_dataset_path, \"train\", \"MASS_MALIGNANT\"))\n",
    "    os.makedirs(os.path.join(combined_dataset_path, \"train\", \"MASS_BENIGN\"))\n",
    "    os.makedirs(os.path.join(combined_dataset_path, \"train\", \"CALCIFICATION_MALIGNANT\"))\n",
    "    os.makedirs(os.path.join(combined_dataset_path, \"train\", \"CALCIFICATION_BENIGN\"))\n",
    "    os.makedirs(os.path.join(combined_dataset_path, \"validation\"))\n",
    "    os.makedirs(os.path.join(combined_dataset_path, \"validation\", \"MASS_MALIGNANT\"))\n",
    "    os.makedirs(os.path.join(combined_dataset_path, \"validation\", \"MASS_BENIGN\"))\n",
    "    os.makedirs(os.path.join(combined_dataset_path, \"validation\", \"CALCIFICATION_MALIGNANT\"))\n",
    "    os.makedirs(os.path.join(combined_dataset_path, \"validation\", \"CALCIFICATION_BENIGN\"))\n",
    "    os.makedirs(os.path.join(combined_dataset_path, \"test\"))\n",
    "    os.makedirs(os.path.join(combined_dataset_path, \"test\", \"MASS_MALIGNANT\"))\n",
    "    os.makedirs(os.path.join(combined_dataset_path, \"test\", \"MASS_BENIGN\"))\n",
    "    os.makedirs(os.path.join(combined_dataset_path, \"test\", \"CALCIFICATION_MALIGNANT\"))\n",
    "    os.makedirs(os.path.join(combined_dataset_path, \"test\", \"CALCIFICATION_BENIGN\"))"
   ]
  },
  {
   "cell_type": "markdown",
   "id": "4d4edc83-fa55-4d7f-a610-cb5f455873b0",
   "metadata": {
    "tags": []
   },
   "source": [
    "#### Saving full images "
   ]
  },
  {
   "cell_type": "code",
   "execution_count": 5,
   "id": "a5fee392-fd0a-439e-abc3-d626f558c016",
   "metadata": {
    "tags": []
   },
   "outputs": [],
   "source": [
    " def save_image_in_dir(dataset_info, save_path, train_test=\"train\"):\n",
    "        clahe=cv2.createCLAHE(clipLimit=40)\n",
    "        print(len(dataset_info))\n",
    "        i = 0\n",
    "        for data in dataset_info:\n",
    "            p_id, side, view, ab_id, image_path, label = data\n",
    "            if image_path == \"no\":\n",
    "                pass\n",
    "            else:\n",
    "                full_id = p_id + \"_\" + side + \"_\" + view + \"_\" + str(ab_id)\n",
    "                image = cv2.imread(image_path, 0)\n",
    "                gray_img_eqhist=cv2.equalizeHist(image)\n",
    "                gray_clahe_image = cv2.cvtColor(clahe.apply(gray_img_eqhist), cv2.COLOR_GRAY2RGB)\n",
    "                image = tf.image.resize(gray_clahe_image, (299, 299)).numpy().astype(\"uint8\")\n",
    "                save_dir = os.path.join(save_path, train_test, label, str(i)+'.jpg')\n",
    "                cv2.imwrite(save_dir, image)\n",
    "                i += 1"
   ]
  },
  {
   "cell_type": "code",
   "execution_count": 6,
   "id": "8df2f432-7d0d-4c7d-99e6-1df3fd1ba19e",
   "metadata": {
    "tags": []
   },
   "outputs": [],
   "source": [
    " def save_image_in_dir_without_clahe(dataset_info, save_path, train_test=\"train\"):\n",
    "        print(len(dataset_info))\n",
    "        i = 0\n",
    "        for data in dataset_info:\n",
    "            p_id, side, view, ab_id, image_path, label = data\n",
    "            if image_path == \"no\":\n",
    "                pass\n",
    "            else:\n",
    "                full_id = p_id + \"_\" + side + \"_\" + view + \"_\" + str(ab_id)\n",
    "                image = cv2.imread(image_path)\n",
    "                image = cv2.cvtColor(image, cv2.COLOR_BGR2RGB)\n",
    "                image = tf.image.resize(image, (299, 299)).numpy().astype(\"uint8\")\n",
    "                save_dir = os.path.join(save_path, train_test, label, str(i)+'.jpg')\n",
    "                cv2.imwrite(save_dir, image)\n",
    "                i += 1"
   ]
  },
  {
   "cell_type": "markdown",
   "id": "b053a123-aa70-429d-903a-5f723ed1bf7a",
   "metadata": {},
   "source": [
    "## Mass Cancer images saves"
   ]
  },
  {
   "cell_type": "markdown",
   "id": "02486a81-f89a-4ded-9eed-c9b7ea217b72",
   "metadata": {},
   "source": [
    "#### Full images"
   ]
  },
  {
   "cell_type": "code",
   "execution_count": 7,
   "id": "63a01106-b86d-4384-9c1a-63bbcfd6484e",
   "metadata": {
    "tags": []
   },
   "outputs": [],
   "source": [
    "mass_train_path = os.path.join(mass_dataset_path, folders_path[0])\n",
    "\n",
    "x, x_test, y, y_test = train_test_split(mass_train[[\"patient_id\", \n",
    "                                                    \"left or right breast\",\n",
    "                                                    \"image view\", \n",
    "                                                    \"abnormality id\", \n",
    "                                                    \"image file path\", \n",
    "                                                    \"pathology\"]].values,\n",
    "                                        mass_train[\"pathology\"], \n",
    "                                        stratify=mass_train[\"pathology\"],\n",
    "                                        test_size=0.2)"
   ]
  },
  {
   "cell_type": "markdown",
   "id": "6fc52055-b0bc-4517-81e5-bb8c82f666df",
   "metadata": {
    "tags": []
   },
   "source": [
    "##### train"
   ]
  },
  {
   "cell_type": "code",
   "execution_count": 8,
   "id": "cca58268-2074-4954-b0fa-32784f8be701",
   "metadata": {
    "tags": []
   },
   "outputs": [
    {
     "name": "stdout",
     "output_type": "stream",
     "text": [
      "../image_dataset/mass_dataset/full_images\n",
      "1214\n",
      "Metal device set to: Apple M1\n"
     ]
    },
    {
     "name": "stderr",
     "output_type": "stream",
     "text": [
      "2023-05-05 00:37:46.747185: I tensorflow/core/common_runtime/pluggable_device/pluggable_device_factory.cc:306] Could not identify NUMA node of platform GPU ID 0, defaulting to 0. Your kernel may not have been built with NUMA support.\n",
      "2023-05-05 00:37:46.747224: I tensorflow/core/common_runtime/pluggable_device/pluggable_device_factory.cc:272] Created TensorFlow device (/job:localhost/replica:0/task:0/device:GPU:0 with 0 MB memory) -> physical PluggableDevice (device: 0, name: METAL, pci bus id: <undefined>)\n"
     ]
    },
    {
     "name": "stdout",
     "output_type": "stream",
     "text": [
      "completed saving\n"
     ]
    }
   ],
   "source": [
    "print(mass_train_path)\n",
    "\n",
    "df = list(mass_train[[\"patient_id\", \n",
    "                    \"left or right breast\",\n",
    "                    \"image view\", \n",
    "                    \"abnormality id\", \n",
    "                    \"image file path\",\n",
    "                    \"pathology\"]].values)\n",
    "\n",
    "save_image_in_dir_without_clahe(dataset_info=df, \n",
    "                  save_path=mass_train_path,\n",
    "                 train_test=\"train\")\n",
    "print(\"completed saving\")"
   ]
  },
  {
   "cell_type": "code",
   "execution_count": 9,
   "id": "355594f5-8ff5-46f1-95cc-aeaebdf8e53f",
   "metadata": {
    "tags": []
   },
   "outputs": [
    {
     "data": {
      "text/plain": [
       "1214"
      ]
     },
     "execution_count": 9,
     "metadata": {},
     "output_type": "execute_result"
    }
   ],
   "source": [
    "len(os.listdir(\"../image_dataset/mass_dataset/full_images/train/MALIGNANT/\")) + \\\n",
    "len(os.listdir(\"../image_dataset/mass_dataset/full_images/train/BENIGN/\"))"
   ]
  },
  {
   "cell_type": "markdown",
   "id": "e23780b3-7255-4db7-aa5f-caeb6a3e3aaa",
   "metadata": {},
   "source": [
    "##### Validation"
   ]
  },
  {
   "cell_type": "code",
   "execution_count": 10,
   "id": "e03ce187-187d-4f73-947a-c37dd50da427",
   "metadata": {
    "tags": []
   },
   "outputs": [
    {
     "name": "stdout",
     "output_type": "stream",
     "text": [
      "../image_dataset/mass_dataset/full_images\n",
      "243\n",
      "completed saving\n"
     ]
    }
   ],
   "source": [
    "print(mass_train_path)\n",
    "\n",
    "save_image_in_dir_without_clahe(dataset_info=x_test, \n",
    "                                save_path=mass_train_path,\n",
    "                                 train_test=\"validation\")\n",
    "print(\"completed saving\")"
   ]
  },
  {
   "cell_type": "code",
   "execution_count": 11,
   "id": "46006871-2540-499c-bc13-6512f1d0c223",
   "metadata": {
    "tags": []
   },
   "outputs": [
    {
     "data": {
      "text/plain": [
       "243"
      ]
     },
     "execution_count": 11,
     "metadata": {},
     "output_type": "execute_result"
    }
   ],
   "source": [
    "len(os.listdir(\"../image_dataset/mass_dataset/full_images/validation/MALIGNANT/\")) \\\n",
    "+ len(os.listdir(\"../image_dataset/mass_dataset/full_images/validation/BENIGN/\"))"
   ]
  },
  {
   "cell_type": "markdown",
   "id": "c78e0fbb-49bc-46f0-ade6-f508bf1a04bf",
   "metadata": {},
   "source": [
    "##### Test"
   ]
  },
  {
   "cell_type": "code",
   "execution_count": 12,
   "id": "339e3982-4685-4c27-b6e5-40eaedd69ed2",
   "metadata": {
    "tags": []
   },
   "outputs": [
    {
     "name": "stdout",
     "output_type": "stream",
     "text": [
      "../image_dataset/mass_dataset/full_images\n",
      "341\n",
      "completed saving\n"
     ]
    }
   ],
   "source": [
    "print(mass_train_path)\n",
    "\n",
    "df = list(mass_test[[\"patient_id\", \n",
    "                    \"left or right breast\",\n",
    "                    \"image view\", \n",
    "                    \"abnormality id\", \n",
    "                    \"image file path\",\n",
    "                    \"pathology\"]].values)\n",
    "\n",
    "save_image_in_dir_without_clahe(dataset_info=df, \n",
    "                  save_path=mass_train_path,\n",
    "                 train_test=\"test\")\n",
    "print(\"completed saving\")"
   ]
  },
  {
   "cell_type": "code",
   "execution_count": 13,
   "id": "8c5a6ead-16a1-4041-b030-d2015aff2232",
   "metadata": {
    "tags": []
   },
   "outputs": [
    {
     "data": {
      "text/plain": [
       "341"
      ]
     },
     "execution_count": 13,
     "metadata": {},
     "output_type": "execute_result"
    }
   ],
   "source": [
    "len(os.listdir(\"../image_dataset/mass_dataset/full_images/test/MALIGNANT/\")) \\\n",
    "+ len(os.listdir(\"../image_dataset/mass_dataset/full_images/test/BENIGN/\"))"
   ]
  },
  {
   "cell_type": "markdown",
   "id": "3ac82189-a5ab-4594-b2d3-eceb54237ec0",
   "metadata": {},
   "source": [
    "#### Cropped Images"
   ]
  },
  {
   "cell_type": "code",
   "execution_count": 14,
   "id": "09a42c10-be64-4ccc-b9d0-dea2c49d1b53",
   "metadata": {
    "tags": []
   },
   "outputs": [],
   "source": [
    "mass_train_path = os.path.join(mass_dataset_path, folders_path[1])\n",
    "\n",
    "x, x_test, y, y_test = train_test_split(mass_train[[\"patient_id\", \n",
    "                                                    \"left or right breast\",\n",
    "                                                    \"image view\", \n",
    "                                                    \"abnormality id\", \n",
    "                                                    \"cropped image file path\",\n",
    "                                                    \"pathology\"]].values, \n",
    "                                        mass_train[\"pathology\"], \n",
    "                                        stratify=mass_train[\"pathology\"],\n",
    "                                        test_size=0.2)"
   ]
  },
  {
   "cell_type": "markdown",
   "id": "4acb31e6-8757-4331-8529-9cc8cdda1a25",
   "metadata": {},
   "source": [
    "##### Train"
   ]
  },
  {
   "cell_type": "code",
   "execution_count": 15,
   "id": "f49c5e5d-03ba-4bca-8595-841dabbe1b58",
   "metadata": {
    "tags": []
   },
   "outputs": [
    {
     "name": "stdout",
     "output_type": "stream",
     "text": [
      "../image_dataset/mass_dataset/cropped_images\n",
      "1214\n",
      "completed saving\n"
     ]
    }
   ],
   "source": [
    "print(mass_train_path)\n",
    "\n",
    "df = list(mass_train[[\"patient_id\", \n",
    "            \"left or right breast\",\n",
    "            \"image view\", \n",
    "            \"abnormality id\", \n",
    "            \"cropped image file path\",\n",
    "            \"pathology\"]].values)\n",
    "\n",
    "save_image_in_dir(dataset_info=df, \n",
    "                  save_path=mass_train_path,\n",
    "                 train_test=\"train\")\n",
    "print(\"completed saving\")"
   ]
  },
  {
   "cell_type": "code",
   "execution_count": 16,
   "id": "e5ad179e-400e-484d-b769-093fdf8d3837",
   "metadata": {
    "tags": []
   },
   "outputs": [
    {
     "data": {
      "text/plain": [
       "1214"
      ]
     },
     "execution_count": 16,
     "metadata": {},
     "output_type": "execute_result"
    }
   ],
   "source": [
    "len(os.listdir(\"../image_dataset/mass_dataset/cropped_images/train/MALIGNANT/\")) + \\\n",
    "len(os.listdir(\"../image_dataset/mass_dataset/cropped_images/train/BENIGN/\"))"
   ]
  },
  {
   "cell_type": "markdown",
   "id": "49d2d159-8f6e-449b-9ab3-d705ec8583cf",
   "metadata": {},
   "source": [
    "##### Validation "
   ]
  },
  {
   "cell_type": "code",
   "execution_count": 17,
   "id": "0af75b80-7db1-4f0c-952b-9777e533d09b",
   "metadata": {
    "tags": []
   },
   "outputs": [
    {
     "name": "stdout",
     "output_type": "stream",
     "text": [
      "../image_dataset/mass_dataset/cropped_images\n",
      "243\n",
      "completed saving\n"
     ]
    }
   ],
   "source": [
    "print(mass_train_path)\n",
    "\n",
    "save_image_in_dir(dataset_info=x_test, \n",
    "                  save_path=mass_train_path,\n",
    "                 train_test=\"validation\")\n",
    "print(\"completed saving\")"
   ]
  },
  {
   "cell_type": "code",
   "execution_count": 18,
   "id": "02ea0bd1-abc6-4329-a22a-5cfad56a85c4",
   "metadata": {
    "tags": []
   },
   "outputs": [
    {
     "data": {
      "text/plain": [
       "243"
      ]
     },
     "execution_count": 18,
     "metadata": {},
     "output_type": "execute_result"
    }
   ],
   "source": [
    "len(os.listdir(\"../image_dataset/mass_dataset/cropped_images/validation/MALIGNANT/\")) \\\n",
    "+ len(os.listdir(\"../image_dataset/mass_dataset/cropped_images/validation/BENIGN/\"))"
   ]
  },
  {
   "cell_type": "markdown",
   "id": "e60918dc-dbd5-41f3-96e6-7e7cd7f972a7",
   "metadata": {},
   "source": [
    "##### Test"
   ]
  },
  {
   "cell_type": "code",
   "execution_count": 19,
   "id": "c96a4ca0-4f3f-4349-a6b3-bbb208691cd4",
   "metadata": {
    "tags": []
   },
   "outputs": [
    {
     "name": "stdout",
     "output_type": "stream",
     "text": [
      "341\n",
      "completed saving\n"
     ]
    }
   ],
   "source": [
    "df = list(mass_test[[\"patient_id\", \n",
    "                    \"left or right breast\",\n",
    "                    \"image view\", \n",
    "                    \"abnormality id\", \n",
    "                    \"cropped image file path\",\n",
    "                    \"pathology\"]].values)\n",
    "\n",
    "save_image_in_dir(dataset_info=df, \n",
    "                  save_path=mass_train_path,\n",
    "                 train_test=\"test\")\n",
    "print(\"completed saving\")"
   ]
  },
  {
   "cell_type": "markdown",
   "id": "7ee172b8-9171-416e-822e-6175c48e3b9f",
   "metadata": {},
   "source": [
    "#### ROI images"
   ]
  },
  {
   "cell_type": "code",
   "execution_count": 20,
   "id": "932f3afc-62f0-4aff-ad5a-e440a77c0dbb",
   "metadata": {
    "tags": []
   },
   "outputs": [],
   "source": [
    "mass_train_path = os.path.join(mass_dataset_path, folders_path[2])\n",
    "\n",
    "x, x_test, y, y_test = train_test_split(mass_train[[\"patient_id\", \n",
    "                                                    \"left or right breast\",\n",
    "                                                    \"image view\", \n",
    "                                                    \"abnormality id\", \n",
    "                                                    \"ROI mask file path\",\n",
    "                                                    \"pathology\"]].values,\n",
    "                                        mass_train[\"pathology\"], \n",
    "                                        stratify=mass_train[\"pathology\"],\n",
    "                                        test_size=0.2)"
   ]
  },
  {
   "cell_type": "markdown",
   "id": "4a7eb7f3-3681-4ee1-888d-dfe257d3dd34",
   "metadata": {
    "tags": []
   },
   "source": [
    "##### Train"
   ]
  },
  {
   "cell_type": "code",
   "execution_count": 21,
   "id": "afcd8a9b-c633-471f-a1a9-e287870321d8",
   "metadata": {
    "tags": []
   },
   "outputs": [
    {
     "name": "stdout",
     "output_type": "stream",
     "text": [
      "../image_dataset/mass_dataset/roi_images\n",
      "1214\n",
      "completed saving\n"
     ]
    }
   ],
   "source": [
    "print(mass_train_path)\n",
    "\n",
    "df = list(mass_train[[\"patient_id\", \n",
    "                        \"left or right breast\",\n",
    "                        \"image view\", \n",
    "                        \"abnormality id\", \n",
    "                        \"ROI mask file path\",\n",
    "                        \"pathology\"]].values)\n",
    "\n",
    "save_image_in_dir(dataset_info=df, \n",
    "                  save_path=mass_train_path,\n",
    "                 train_test=\"train\")\n",
    "print(\"completed saving\")"
   ]
  },
  {
   "cell_type": "code",
   "execution_count": 22,
   "id": "04a88f3e-24c9-4315-88e7-c2c8a28d6b9c",
   "metadata": {
    "tags": []
   },
   "outputs": [
    {
     "data": {
      "text/plain": [
       "1214"
      ]
     },
     "execution_count": 22,
     "metadata": {},
     "output_type": "execute_result"
    }
   ],
   "source": [
    "len(os.listdir(\"../image_dataset/mass_dataset/roi_images/train/MALIGNANT/\")) + \\\n",
    "len(os.listdir(\"../image_dataset/mass_dataset/roi_images/train/BENIGN/\"))"
   ]
  },
  {
   "cell_type": "markdown",
   "id": "f676df12-3876-4cef-820f-30be6050794e",
   "metadata": {},
   "source": [
    "##### Validation"
   ]
  },
  {
   "cell_type": "code",
   "execution_count": 23,
   "id": "8211f839-9779-4a6b-b5a8-bce77050e4b6",
   "metadata": {
    "tags": []
   },
   "outputs": [
    {
     "name": "stdout",
     "output_type": "stream",
     "text": [
      "../image_dataset/mass_dataset/roi_images\n",
      "243\n",
      "completed saving\n"
     ]
    }
   ],
   "source": [
    "print(mass_train_path)\n",
    "\n",
    "save_image_in_dir(dataset_info=x_test, \n",
    "                  save_path=mass_train_path,\n",
    "                 train_test=\"validation\")\n",
    "print(\"completed saving\")"
   ]
  },
  {
   "cell_type": "code",
   "execution_count": 24,
   "id": "47b252f3-32b6-4b01-bd43-407ecb483ddc",
   "metadata": {
    "tags": []
   },
   "outputs": [
    {
     "data": {
      "text/plain": [
       "243"
      ]
     },
     "execution_count": 24,
     "metadata": {},
     "output_type": "execute_result"
    }
   ],
   "source": [
    "len(os.listdir(\"../image_dataset/mass_dataset/roi_images/validation/MALIGNANT/\")) + \\\n",
    "len(os.listdir(\"../image_dataset/mass_dataset/roi_images/validation/BENIGN/\"))"
   ]
  },
  {
   "cell_type": "markdown",
   "id": "0dae8c2d-a757-4b73-95bb-f287161690f2",
   "metadata": {
    "tags": []
   },
   "source": [
    "##### Test"
   ]
  },
  {
   "cell_type": "code",
   "execution_count": 25,
   "id": "22c495f4-d885-4c9f-92ce-be93a46a8e8f",
   "metadata": {
    "tags": []
   },
   "outputs": [
    {
     "name": "stdout",
     "output_type": "stream",
     "text": [
      "341\n",
      "completed saving\n"
     ]
    }
   ],
   "source": [
    "df = list(mass_test[[\"patient_id\", \n",
    "                    \"left or right breast\",\n",
    "                    \"image view\", \n",
    "                    \"abnormality id\", \n",
    "                    \"ROI mask file path\",\n",
    "                    \"pathology\"]].values)\n",
    "\n",
    "save_image_in_dir(dataset_info=df, \n",
    "                  save_path=mass_train_path,\n",
    "                 train_test=\"test\")\n",
    "print(\"completed saving\")"
   ]
  },
  {
   "cell_type": "markdown",
   "id": "baa9c61a-c466-4cb6-9523-ee716cd07eb9",
   "metadata": {
    "tags": []
   },
   "source": [
    "## Calcification Images"
   ]
  },
  {
   "cell_type": "markdown",
   "id": "c2a05d0b-47b4-4352-9e33-132f43430562",
   "metadata": {},
   "source": [
    "### Full images"
   ]
  },
  {
   "cell_type": "code",
   "execution_count": 26,
   "id": "e59cb05f-2e14-4f56-b838-16e0ce567f4e",
   "metadata": {
    "tags": []
   },
   "outputs": [],
   "source": [
    "calc_train_path = os.path.join(calc_dataset_path, folders_path[0])\n",
    "\n",
    "x, x_test, y, y_test = train_test_split(calc_train[[\"patient_id\", \n",
    "                                                    \"left or right breast\",\n",
    "                                                    \"image view\", \n",
    "                                                    \"abnormality id\", \n",
    "                                                    \"image file path\",\n",
    "                                                    \"pathology\"]].values, \n",
    "                                        calc_train[\"pathology\"], \n",
    "                                        stratify=calc_train[\"pathology\"],\n",
    "                                        test_size=0.2)"
   ]
  },
  {
   "cell_type": "markdown",
   "id": "ea027d84-ab3b-49c9-a47a-3ac1c7373afc",
   "metadata": {},
   "source": [
    "##### Train"
   ]
  },
  {
   "cell_type": "code",
   "execution_count": 27,
   "id": "096ce6d4-eb79-4183-acfd-6e5dccf2fc07",
   "metadata": {},
   "outputs": [
    {
     "name": "stdout",
     "output_type": "stream",
     "text": [
      "../image_dataset/calc_dataset/full_images\n",
      "1072\n",
      "completed saving\n"
     ]
    }
   ],
   "source": [
    "print(calc_train_path)\n",
    "\n",
    "df = list(calc_train[[\"patient_id\", \n",
    "                \"left or right breast\",\n",
    "                \"image view\", \n",
    "                \"abnormality id\", \n",
    "                \"image file path\",\n",
    "                \"pathology\"]].values)\n",
    "\n",
    "save_image_in_dir(dataset_info=df, \n",
    "                  save_path=calc_train_path,\n",
    "                 train_test=\"train\")\n",
    "print(\"completed saving\")"
   ]
  },
  {
   "cell_type": "code",
   "execution_count": 28,
   "id": "109b75bf-5b8d-4dfa-b7ed-e1c794a7821d",
   "metadata": {},
   "outputs": [
    {
     "data": {
      "text/plain": [
       "1072"
      ]
     },
     "execution_count": 28,
     "metadata": {},
     "output_type": "execute_result"
    }
   ],
   "source": [
    "len(os.listdir(\"../image_dataset/calc_dataset/full_images/train/MALIGNANT/\")) \\\n",
    "+ len(os.listdir(\"../image_dataset/calc_dataset/full_images/train/BENIGN/\"))"
   ]
  },
  {
   "cell_type": "markdown",
   "id": "73c1355a-11f5-4081-8f08-87b3de206dd8",
   "metadata": {},
   "source": [
    "##### Validation"
   ]
  },
  {
   "cell_type": "code",
   "execution_count": 29,
   "id": "8182deab-a28b-4af1-bc14-08de3a07b6b4",
   "metadata": {},
   "outputs": [
    {
     "name": "stdout",
     "output_type": "stream",
     "text": [
      "../image_dataset/calc_dataset/full_images\n",
      "215\n",
      "completed saving\n"
     ]
    }
   ],
   "source": [
    "print(calc_train_path)\n",
    "\n",
    "save_image_in_dir(dataset_info=x_test, \n",
    "                  save_path=calc_train_path,\n",
    "                 train_test=\"validation\")\n",
    "print(\"completed saving\")"
   ]
  },
  {
   "cell_type": "code",
   "execution_count": 30,
   "id": "720fff4b-0af7-41c8-b6dc-710a14ef890f",
   "metadata": {
    "tags": []
   },
   "outputs": [
    {
     "data": {
      "text/plain": [
       "215"
      ]
     },
     "execution_count": 30,
     "metadata": {},
     "output_type": "execute_result"
    }
   ],
   "source": [
    "len(os.listdir(\"../image_dataset/calc_dataset/full_images/validation/MALIGNANT/\")) \\\n",
    "+ len(os.listdir(\"../image_dataset/calc_dataset/full_images/validation/BENIGN/\"))"
   ]
  },
  {
   "cell_type": "markdown",
   "id": "c1714208-70fa-431a-b793-7de0c919c347",
   "metadata": {},
   "source": [
    "##### Test"
   ]
  },
  {
   "cell_type": "code",
   "execution_count": 31,
   "id": "f2297091-4c61-49ba-844c-db86fbf84939",
   "metadata": {
    "tags": []
   },
   "outputs": [
    {
     "name": "stdout",
     "output_type": "stream",
     "text": [
      "../image_dataset/calc_dataset/full_images\n",
      "259\n",
      "completed saving\n"
     ]
    }
   ],
   "source": [
    "print(calc_train_path)\n",
    "\n",
    "df = list(calc_test[[\"patient_id\", \n",
    "                    \"left or right breast\",\n",
    "                    \"image view\", \n",
    "                    \"abnormality id\", \n",
    "                    \"image file path\",\n",
    "                    \"pathology\"]].values)\n",
    "\n",
    "save_image_in_dir(dataset_info=df, \n",
    "                  save_path=calc_train_path,\n",
    "                 train_test=\"test\")\n",
    "print(\"completed saving\")"
   ]
  },
  {
   "cell_type": "markdown",
   "id": "496d578e-5167-4dc5-a137-99689d512b60",
   "metadata": {},
   "source": [
    "### cropped images"
   ]
  },
  {
   "cell_type": "code",
   "execution_count": 32,
   "id": "8837a47a-a271-41ba-b37b-ee89f1db9c28",
   "metadata": {
    "tags": []
   },
   "outputs": [],
   "source": [
    "calc_train_path = os.path.join(calc_dataset_path, folders_path[1])\n",
    "\n",
    "x, x_test, y, y_test = train_test_split(calc_train[[\"patient_id\", \n",
    "                                                    \"left or right breast\",\n",
    "                                                    \"image view\", \n",
    "                                                    \"abnormality id\", \n",
    "                                                    \"cropped image file path\",\n",
    "                                                    \"pathology\"]].values, \n",
    "                                        calc_train[\"pathology\"], \n",
    "                                        stratify=calc_train[\"pathology\"], \n",
    "                                        test_size=0.2)"
   ]
  },
  {
   "cell_type": "markdown",
   "id": "3cbe2f06-b693-437b-8463-7f349af5ab00",
   "metadata": {},
   "source": [
    "##### Train"
   ]
  },
  {
   "cell_type": "code",
   "execution_count": 33,
   "id": "061f302c-c4b8-4002-89ea-a1b49bd22eea",
   "metadata": {
    "tags": []
   },
   "outputs": [
    {
     "name": "stdout",
     "output_type": "stream",
     "text": [
      "../image_dataset/calc_dataset/cropped_images\n",
      "1072\n",
      "completed saving\n"
     ]
    }
   ],
   "source": [
    "print(calc_train_path)\n",
    "\n",
    "df = list(calc_train[[\"patient_id\", \n",
    "                \"left or right breast\",\n",
    "                \"image view\", \n",
    "                \"abnormality id\", \n",
    "                \"cropped image file path\",\n",
    "                \"pathology\"]].values)\n",
    "\n",
    "save_image_in_dir(dataset_info=df, \n",
    "                  save_path=calc_train_path,\n",
    "                 train_test=\"train\")\n",
    "print(\"completed saving\")"
   ]
  },
  {
   "cell_type": "code",
   "execution_count": 34,
   "id": "593c88d6-e701-45ed-9bb2-434747693826",
   "metadata": {
    "tags": []
   },
   "outputs": [
    {
     "data": {
      "text/plain": [
       "1072"
      ]
     },
     "execution_count": 34,
     "metadata": {},
     "output_type": "execute_result"
    }
   ],
   "source": [
    "len(os.listdir(\"../image_dataset/calc_dataset/cropped_images/train/MALIGNANT/\")) \\\n",
    "+ len(os.listdir(\"../image_dataset/calc_dataset/cropped_images/train/BENIGN/\"))"
   ]
  },
  {
   "cell_type": "markdown",
   "id": "69a81daf-80c4-4b80-8576-7869a7245a00",
   "metadata": {},
   "source": [
    "##### Validation"
   ]
  },
  {
   "cell_type": "code",
   "execution_count": 35,
   "id": "061fb0f0-6c94-4541-b3a4-00cf4e7920fa",
   "metadata": {
    "tags": []
   },
   "outputs": [
    {
     "name": "stdout",
     "output_type": "stream",
     "text": [
      "../image_dataset/calc_dataset/cropped_images\n",
      "215\n",
      "completed saving\n"
     ]
    }
   ],
   "source": [
    "print(calc_train_path)\n",
    "\n",
    "save_image_in_dir(dataset_info=x_test, \n",
    "                  save_path=calc_train_path,\n",
    "                 train_test=\"validation\")\n",
    "print(\"completed saving\")"
   ]
  },
  {
   "cell_type": "code",
   "execution_count": 36,
   "id": "3660fa6c-009f-4d6c-b252-6d1f516e9ea2",
   "metadata": {
    "tags": []
   },
   "outputs": [
    {
     "data": {
      "text/plain": [
       "215"
      ]
     },
     "execution_count": 36,
     "metadata": {},
     "output_type": "execute_result"
    }
   ],
   "source": [
    "len(os.listdir(\"../image_dataset/calc_dataset/full_images/validation/MALIGNANT/\")) \\\n",
    "+ len(os.listdir(\"../image_dataset/calc_dataset/full_images/validation/BENIGN/\"))"
   ]
  },
  {
   "cell_type": "markdown",
   "id": "876b9e6a-8391-410f-a2bb-5c33635d46fe",
   "metadata": {},
   "source": [
    "##### Test"
   ]
  },
  {
   "cell_type": "code",
   "execution_count": 37,
   "id": "750f6e8e-1bfe-424d-9406-a1066d3810f2",
   "metadata": {
    "tags": []
   },
   "outputs": [
    {
     "name": "stdout",
     "output_type": "stream",
     "text": [
      "../image_dataset/calc_dataset/cropped_images\n",
      "259\n",
      "completed saving\n"
     ]
    }
   ],
   "source": [
    "print(calc_train_path)\n",
    "\n",
    "df = list(calc_test[[\"patient_id\", \n",
    "                    \"left or right breast\",\n",
    "                    \"image view\", \n",
    "                    \"abnormality id\", \n",
    "                    \"cropped image file path\",\n",
    "                    \"pathology\"]].values)\n",
    "\n",
    "save_image_in_dir(dataset_info=df, \n",
    "                  save_path=calc_train_path,\n",
    "                 train_test=\"test\")\n",
    "print(\"completed saving\")"
   ]
  },
  {
   "cell_type": "markdown",
   "id": "82d6f508-8414-4282-89be-72062c95a3cd",
   "metadata": {
    "tags": []
   },
   "source": [
    "## ROI Images"
   ]
  },
  {
   "cell_type": "code",
   "execution_count": 38,
   "id": "f510ac6e-263b-4e1d-9fd6-a4acdb908cbb",
   "metadata": {
    "tags": []
   },
   "outputs": [],
   "source": [
    "calc_train_path = os.path.join(calc_dataset_path, folders_path[2])\n",
    "\n",
    "x, x_test, y, y_test = train_test_split(calc_train[[\"patient_id\", \n",
    "                                                    \"left or right breast\",\n",
    "                                                    \"image view\", \n",
    "                                                    \"abnormality id\", \n",
    "                                                    \"ROI mask file path\",\n",
    "                                                    \"pathology\"]].values, \n",
    "                                        calc_train[\"pathology\"], \n",
    "                                        stratify=calc_train[\"pathology\"],\n",
    "                                        test_size=0.2)"
   ]
  },
  {
   "cell_type": "markdown",
   "id": "77f70b79-5174-48e1-a3e1-110f354abf7d",
   "metadata": {},
   "source": [
    "##### Train"
   ]
  },
  {
   "cell_type": "code",
   "execution_count": 39,
   "id": "f0b64c9c-fb87-4ef0-bf86-36fc72437ab7",
   "metadata": {
    "tags": []
   },
   "outputs": [
    {
     "name": "stdout",
     "output_type": "stream",
     "text": [
      "../image_dataset/calc_dataset/roi_images\n",
      "1072\n",
      "completed saving\n"
     ]
    }
   ],
   "source": [
    "print(calc_train_path)\n",
    "\n",
    "df = list(calc_train[[\"patient_id\", \n",
    "                    \"left or right breast\",\n",
    "                    \"image view\", \n",
    "                    \"abnormality id\", \n",
    "                    \"ROI mask file path\",\n",
    "                    \"pathology\"]].values)\n",
    "\n",
    "save_image_in_dir(dataset_info=df, \n",
    "                  save_path=calc_train_path,\n",
    "                 train_test=\"train\")\n",
    "print(\"completed saving\")"
   ]
  },
  {
   "cell_type": "code",
   "execution_count": 40,
   "id": "f4e15306-628c-4448-8aa6-b195024692be",
   "metadata": {},
   "outputs": [
    {
     "data": {
      "text/plain": [
       "1072"
      ]
     },
     "execution_count": 40,
     "metadata": {},
     "output_type": "execute_result"
    }
   ],
   "source": [
    "len(os.listdir(\"../image_dataset/calc_dataset/roi_images/train/MALIGNANT/\")) \\\n",
    "+ len(os.listdir(\"../image_dataset/calc_dataset/roi_images/train/BENIGN/\"))"
   ]
  },
  {
   "cell_type": "markdown",
   "id": "2e1475ca-c155-4918-a050-8b35f7e92033",
   "metadata": {},
   "source": [
    "##### Validation"
   ]
  },
  {
   "cell_type": "code",
   "execution_count": 41,
   "id": "7fa4fb3e-95f5-41e4-be64-06f3bbb903ec",
   "metadata": {
    "tags": []
   },
   "outputs": [
    {
     "name": "stdout",
     "output_type": "stream",
     "text": [
      "../image_dataset/calc_dataset/roi_images\n",
      "215\n",
      "completed saving\n"
     ]
    }
   ],
   "source": [
    "print(calc_train_path)\n",
    "save_image_in_dir(dataset_info=x_test, \n",
    "                  save_path=calc_train_path,\n",
    "                 train_test=\"validation\")\n",
    "print(\"completed saving\")"
   ]
  },
  {
   "cell_type": "code",
   "execution_count": 42,
   "id": "05fe8aee-1e74-410f-b74c-d8c886e4ba69",
   "metadata": {
    "tags": []
   },
   "outputs": [
    {
     "data": {
      "text/plain": [
       "215"
      ]
     },
     "execution_count": 42,
     "metadata": {},
     "output_type": "execute_result"
    }
   ],
   "source": [
    "len(os.listdir(\"../image_dataset/calc_dataset/roi_images/validation/MALIGNANT/\")) \\\n",
    "+ len(os.listdir(\"../image_dataset/calc_dataset/roi_images/validation/BENIGN/\"))"
   ]
  },
  {
   "cell_type": "markdown",
   "id": "7215c267-880f-407d-978c-697def9b6426",
   "metadata": {},
   "source": [
    "##### Test"
   ]
  },
  {
   "cell_type": "code",
   "execution_count": 43,
   "id": "9c1f4c8d-c5ce-44de-99b5-8daef763db3b",
   "metadata": {
    "tags": []
   },
   "outputs": [
    {
     "name": "stdout",
     "output_type": "stream",
     "text": [
      "../image_dataset/calc_dataset/roi_images\n",
      "259\n",
      "completed saving\n"
     ]
    }
   ],
   "source": [
    "print(calc_train_path)\n",
    "\n",
    "df = list(calc_test[[\"patient_id\", \n",
    "                    \"left or right breast\",\n",
    "                    \"image view\", \n",
    "                    \"abnormality id\", \n",
    "                    \"ROI mask file path\",\n",
    "                    \"pathology\"]].values)\n",
    "\n",
    "save_image_in_dir(dataset_info=df, \n",
    "                  save_path=calc_train_path,\n",
    "                 train_test=\"test\")\n",
    "print(\"completed saving\")"
   ]
  },
  {
   "cell_type": "markdown",
   "id": "b83d1859-8475-4747-bc3a-39bdc81a15de",
   "metadata": {},
   "source": [
    "### Combined Dataset"
   ]
  },
  {
   "cell_type": "markdown",
   "id": "cd9b2528-1fad-4df8-926f-2b01f0281d0c",
   "metadata": {},
   "source": [
    "##### Train"
   ]
  },
  {
   "cell_type": "code",
   "execution_count": 44,
   "id": "800d6ec4-5392-49db-8dfb-f63ee0c5a3d3",
   "metadata": {
    "tags": []
   },
   "outputs": [],
   "source": [
    "x, x_test, y, y_test = train_test_split(train_df[[\"patient_id\", \n",
    "                                                  \"left or right breast\",\n",
    "                                                  \"image view\", \n",
    "                                                  \"abnormality id\", \n",
    "                                                  \"cropped image file path\", \n",
    "                                                  \"pathology\"]].values,\n",
    "                                        train_df[\"pathology\"],\n",
    "                                        stratify=train_df[\"pathology\"],\n",
    "                                        test_size=0.2)"
   ]
  },
  {
   "cell_type": "code",
   "execution_count": 45,
   "id": "e705cbaf-e20f-47bf-a321-cdccfa07a8dc",
   "metadata": {
    "tags": []
   },
   "outputs": [
    {
     "name": "stdout",
     "output_type": "stream",
     "text": [
      "2286\n",
      "completed saving\n"
     ]
    }
   ],
   "source": [
    "df = list(train_df[[\"patient_id\", \n",
    "                    \"left or right breast\",\n",
    "                    \"image view\", \n",
    "                    \"abnormality id\", \n",
    "                    \"cropped image file path\",\n",
    "                    \"pathology\"]].values)\n",
    "\n",
    "save_image_in_dir(dataset_info=df, \n",
    "                  save_path=combined_dataset_path,\n",
    "                 train_test=\"train\")\n",
    "print(\"completed saving\")"
   ]
  },
  {
   "cell_type": "code",
   "execution_count": 46,
   "id": "73792eb6-ff31-46f0-9f25-5d590d12ab1a",
   "metadata": {
    "tags": []
   },
   "outputs": [
    {
     "data": {
      "text/plain": [
       "2286"
      ]
     },
     "execution_count": 46,
     "metadata": {},
     "output_type": "execute_result"
    }
   ],
   "source": [
    "len(os.listdir(\"../image_dataset/combined_dataset/cropped_images/train/CALCIFICATION_BENIGN/\")) \\\n",
    "+ len(os.listdir(\"../image_dataset/combined_dataset/cropped_images/train/CALCIFICATION_MALIGNANT/\")) \\\n",
    "+ len(os.listdir(\"../image_dataset/combined_dataset/cropped_images/train/MASS_BENIGN/\")) \\\n",
    "+ len(os.listdir(\"../image_dataset/combined_dataset/cropped_images/train/MASS_MALIGNANT/\")) "
   ]
  },
  {
   "cell_type": "markdown",
   "id": "99ca98d5-4f47-40ac-89b1-0bffeb2ec718",
   "metadata": {},
   "source": [
    "##### Validation"
   ]
  },
  {
   "cell_type": "code",
   "execution_count": 47,
   "id": "8d08987b-68fd-4adf-b512-5dc1bdc70a7d",
   "metadata": {
    "tags": []
   },
   "outputs": [
    {
     "name": "stdout",
     "output_type": "stream",
     "text": [
      "../image_dataset/combined_dataset/cropped_images\n",
      "458\n",
      "completed saving\n"
     ]
    }
   ],
   "source": [
    "print(combined_dataset_path)\n",
    "\n",
    "save_image_in_dir(dataset_info=x_test, \n",
    "                  save_path=combined_dataset_path,\n",
    "                 train_test=\"validation\")\n",
    "print(\"completed saving\")"
   ]
  },
  {
   "cell_type": "code",
   "execution_count": 48,
   "id": "9dc40d43-0f1d-4028-8524-bc3941e23438",
   "metadata": {
    "tags": []
   },
   "outputs": [
    {
     "data": {
      "text/plain": [
       "458"
      ]
     },
     "execution_count": 48,
     "metadata": {},
     "output_type": "execute_result"
    }
   ],
   "source": [
    "len(os.listdir(\"../image_dataset/combined_dataset/cropped_images/validation/CALCIFICATION_BENIGN/\")) \\\n",
    "+ len(os.listdir(\"../image_dataset/combined_dataset/cropped_images/validation/CALCIFICATION_MALIGNANT/\")) \\\n",
    "+ len(os.listdir(\"../image_dataset/combined_dataset/cropped_images/validation/MASS_BENIGN/\")) \\\n",
    "+ len(os.listdir(\"../image_dataset/combined_dataset/cropped_images/validation/MASS_MALIGNANT/\")) "
   ]
  },
  {
   "cell_type": "markdown",
   "id": "6c3468c8-28af-4b45-98be-5101624f804c",
   "metadata": {},
   "source": [
    "##### Test"
   ]
  },
  {
   "cell_type": "code",
   "execution_count": 49,
   "id": "12a2413f-7132-4dca-b79f-8a18ca1461f9",
   "metadata": {
    "tags": []
   },
   "outputs": [
    {
     "name": "stdout",
     "output_type": "stream",
     "text": [
      "../image_dataset/combined_dataset/cropped_images\n",
      "600\n",
      "completed saving\n"
     ]
    }
   ],
   "source": [
    "print(combined_dataset_path)\n",
    "\n",
    "df = list(test_df[[\"patient_id\", \n",
    "                    \"left or right breast\",\n",
    "                    \"image view\", \n",
    "                    \"abnormality id\", \n",
    "                    \"cropped image file path\",\n",
    "                    \"pathology\"]].values)\n",
    "\n",
    "save_image_in_dir(dataset_info=df, \n",
    "                  save_path=combined_dataset_path,\n",
    "                 train_test=\"test\")\n",
    "\n",
    "print(\"completed saving\")"
   ]
  },
  {
   "cell_type": "code",
   "execution_count": 50,
   "id": "3766064c-ba91-4c70-8c6f-36f190241eaa",
   "metadata": {
    "tags": []
   },
   "outputs": [
    {
     "data": {
      "text/plain": [
       "600"
      ]
     },
     "execution_count": 50,
     "metadata": {},
     "output_type": "execute_result"
    }
   ],
   "source": [
    "len(os.listdir(\"../image_dataset/combined_dataset/cropped_images/test/CALCIFICATION_BENIGN/\")) \\\n",
    "+ len(os.listdir(\"../image_dataset/combined_dataset/cropped_images/test/CALCIFICATION_MALIGNANT/\")) \\\n",
    "+ len(os.listdir(\"../image_dataset/combined_dataset/cropped_images/test/MASS_BENIGN/\")) \\\n",
    "+ len(os.listdir(\"../image_dataset/combined_dataset/cropped_images/test/MASS_MALIGNANT/\")) "
   ]
  },
  {
   "cell_type": "markdown",
   "id": "1f39b8eb-8c70-46ff-9c53-00daed7c15dc",
   "metadata": {},
   "source": [
    "## Test set generation"
   ]
  },
  {
   "cell_type": "code",
   "execution_count": 50,
   "id": "bd4cb777-3108-4175-8f9f-3761ff97930c",
   "metadata": {
    "tags": []
   },
   "outputs": [],
   "source": [
    "def generate_test_data(test_df, image_type_path):\n",
    "    clahe=cv2.createCLAHE(clipLimit=40)\n",
    "    labels = []\n",
    "    images = []\n",
    "    for image_path, label in mass_test[[image_type_path, \"pathology\"]].values:\n",
    "        if label==\"MALIGNANT\":\n",
    "            labels.append(1)\n",
    "        if label==\"BENIGN\":\n",
    "            labels.append(0)\n",
    "        image = cv2.imread(image_path, 0)\n",
    "        gray_img_eqhist=cv2.equalizeHist(image)\n",
    "        gray_clahe_image = cv2.cvtColor(clahe.apply(gray_img_eqhist), cv2.COLOR_GRAY2RGB)\n",
    "        image = tf.image.resize(gray_clahe_image, (229, 229)).numpy().astype(\"uint8\")\n",
    "        images.append(image)\n",
    "    return images, labels"
   ]
  },
  {
   "cell_type": "code",
   "execution_count": 51,
   "id": "d329cd88-dafc-4157-92a6-7c0008d8fb36",
   "metadata": {},
   "outputs": [],
   "source": [
    "images, labels = generate_test_data(mass_test, image_type_path=\"image file path\")"
   ]
  },
  {
   "cell_type": "code",
   "execution_count": 53,
   "id": "c6b998cf-05a1-48f3-9be6-3898e85c9bf2",
   "metadata": {
    "tags": []
   },
   "outputs": [
    {
     "data": {
      "text/html": [
       "<div>\n",
       "<style scoped>\n",
       "    .dataframe tbody tr th:only-of-type {\n",
       "        vertical-align: middle;\n",
       "    }\n",
       "\n",
       "    .dataframe tbody tr th {\n",
       "        vertical-align: top;\n",
       "    }\n",
       "\n",
       "    .dataframe thead th {\n",
       "        text-align: right;\n",
       "    }\n",
       "</style>\n",
       "<table border=\"1\" class=\"dataframe\">\n",
       "  <thead>\n",
       "    <tr style=\"text-align: right;\">\n",
       "      <th></th>\n",
       "      <th>patient_id</th>\n",
       "      <th>breast_density</th>\n",
       "      <th>left or right breast</th>\n",
       "      <th>image view</th>\n",
       "      <th>abnormality id</th>\n",
       "      <th>abnormality type</th>\n",
       "      <th>mass shape</th>\n",
       "      <th>mass margins</th>\n",
       "      <th>assessment</th>\n",
       "      <th>pathology</th>\n",
       "      <th>subtlety</th>\n",
       "      <th>image file path</th>\n",
       "      <th>cropped image file path</th>\n",
       "      <th>ROI mask file path</th>\n",
       "    </tr>\n",
       "  </thead>\n",
       "  <tbody>\n",
       "    <tr>\n",
       "      <th>0</th>\n",
       "      <td>P_00016</td>\n",
       "      <td>4</td>\n",
       "      <td>LEFT</td>\n",
       "      <td>CC</td>\n",
       "      <td>1</td>\n",
       "      <td>mass</td>\n",
       "      <td>IRREGULAR</td>\n",
       "      <td>SPICULATED</td>\n",
       "      <td>5</td>\n",
       "      <td>MALIGNANT</td>\n",
       "      <td>5</td>\n",
       "      <td>../CBIS-DDSM/jpeg/1.3.6.1.4.1.9590.100.1.2.245...</td>\n",
       "      <td>../CBIS-DDSM/jpeg/1.3.6.1.4.1.9590.100.1.2.308...</td>\n",
       "      <td>../CBIS-DDSM/jpeg/1.3.6.1.4.1.9590.100.1.2.308...</td>\n",
       "    </tr>\n",
       "    <tr>\n",
       "      <th>1</th>\n",
       "      <td>P_00016</td>\n",
       "      <td>4</td>\n",
       "      <td>LEFT</td>\n",
       "      <td>MLO</td>\n",
       "      <td>1</td>\n",
       "      <td>mass</td>\n",
       "      <td>IRREGULAR</td>\n",
       "      <td>SPICULATED</td>\n",
       "      <td>5</td>\n",
       "      <td>MALIGNANT</td>\n",
       "      <td>5</td>\n",
       "      <td>../CBIS-DDSM/jpeg/1.3.6.1.4.1.9590.100.1.2.859...</td>\n",
       "      <td>../CBIS-DDSM/jpeg/1.3.6.1.4.1.9590.100.1.2.381...</td>\n",
       "      <td>../CBIS-DDSM/jpeg/1.3.6.1.4.1.9590.100.1.2.381...</td>\n",
       "    </tr>\n",
       "    <tr>\n",
       "      <th>2</th>\n",
       "      <td>P_00017</td>\n",
       "      <td>2</td>\n",
       "      <td>LEFT</td>\n",
       "      <td>CC</td>\n",
       "      <td>1</td>\n",
       "      <td>mass</td>\n",
       "      <td>ROUND</td>\n",
       "      <td>CIRCUMSCRIBED</td>\n",
       "      <td>4</td>\n",
       "      <td>MALIGNANT</td>\n",
       "      <td>4</td>\n",
       "      <td>../CBIS-DDSM/jpeg/1.3.6.1.4.1.9590.100.1.2.221...</td>\n",
       "      <td>../CBIS-DDSM/jpeg/1.3.6.1.4.1.9590.100.1.2.212...</td>\n",
       "      <td>../CBIS-DDSM/jpeg/1.3.6.1.4.1.9590.100.1.2.212...</td>\n",
       "    </tr>\n",
       "    <tr>\n",
       "      <th>3</th>\n",
       "      <td>P_00017</td>\n",
       "      <td>2</td>\n",
       "      <td>LEFT</td>\n",
       "      <td>MLO</td>\n",
       "      <td>1</td>\n",
       "      <td>mass</td>\n",
       "      <td>ROUND</td>\n",
       "      <td>ILL_DEFINED</td>\n",
       "      <td>4</td>\n",
       "      <td>MALIGNANT</td>\n",
       "      <td>4</td>\n",
       "      <td>../CBIS-DDSM/jpeg/1.3.6.1.4.1.9590.100.1.2.239...</td>\n",
       "      <td>../CBIS-DDSM/jpeg/1.3.6.1.4.1.9590.100.1.2.154...</td>\n",
       "      <td>../CBIS-DDSM/jpeg/1.3.6.1.4.1.9590.100.1.2.154...</td>\n",
       "    </tr>\n",
       "    <tr>\n",
       "      <th>4</th>\n",
       "      <td>P_00032</td>\n",
       "      <td>3</td>\n",
       "      <td>RIGHT</td>\n",
       "      <td>CC</td>\n",
       "      <td>1</td>\n",
       "      <td>mass</td>\n",
       "      <td>ROUND</td>\n",
       "      <td>OBSCURED</td>\n",
       "      <td>0</td>\n",
       "      <td>BENIGN</td>\n",
       "      <td>2</td>\n",
       "      <td>../CBIS-DDSM/jpeg/1.3.6.1.4.1.9590.100.1.2.215...</td>\n",
       "      <td>../CBIS-DDSM/jpeg/1.3.6.1.4.1.9590.100.1.2.199...</td>\n",
       "      <td>../CBIS-DDSM/jpeg/1.3.6.1.4.1.9590.100.1.2.199...</td>\n",
       "    </tr>\n",
       "    <tr>\n",
       "      <th>...</th>\n",
       "      <td>...</td>\n",
       "      <td>...</td>\n",
       "      <td>...</td>\n",
       "      <td>...</td>\n",
       "      <td>...</td>\n",
       "      <td>...</td>\n",
       "      <td>...</td>\n",
       "      <td>...</td>\n",
       "      <td>...</td>\n",
       "      <td>...</td>\n",
       "      <td>...</td>\n",
       "      <td>...</td>\n",
       "      <td>...</td>\n",
       "      <td>...</td>\n",
       "    </tr>\n",
       "    <tr>\n",
       "      <th>336</th>\n",
       "      <td>P_01815</td>\n",
       "      <td>3</td>\n",
       "      <td>RIGHT</td>\n",
       "      <td>MLO</td>\n",
       "      <td>1</td>\n",
       "      <td>mass</td>\n",
       "      <td>IRREGULAR</td>\n",
       "      <td>ILL_DEFINED</td>\n",
       "      <td>4</td>\n",
       "      <td>MALIGNANT</td>\n",
       "      <td>2</td>\n",
       "      <td>../CBIS-DDSM/jpeg/1.3.6.1.4.1.9590.100.1.2.387...</td>\n",
       "      <td>../CBIS-DDSM/jpeg/1.3.6.1.4.1.9590.100.1.2.348...</td>\n",
       "      <td>../CBIS-DDSM/jpeg/1.3.6.1.4.1.9590.100.1.2.348...</td>\n",
       "    </tr>\n",
       "    <tr>\n",
       "      <th>337</th>\n",
       "      <td>P_01833</td>\n",
       "      <td>2</td>\n",
       "      <td>RIGHT</td>\n",
       "      <td>MLO</td>\n",
       "      <td>1</td>\n",
       "      <td>mass</td>\n",
       "      <td>IRREGULAR</td>\n",
       "      <td>ILL_DEFINED</td>\n",
       "      <td>5</td>\n",
       "      <td>MALIGNANT</td>\n",
       "      <td>5</td>\n",
       "      <td>../CBIS-DDSM/jpeg/1.3.6.1.4.1.9590.100.1.2.355...</td>\n",
       "      <td>../CBIS-DDSM/jpeg/1.3.6.1.4.1.9590.100.1.2.183...</td>\n",
       "      <td>../CBIS-DDSM/jpeg/1.3.6.1.4.1.9590.100.1.2.183...</td>\n",
       "    </tr>\n",
       "    <tr>\n",
       "      <th>338</th>\n",
       "      <td>P_01865</td>\n",
       "      <td>2</td>\n",
       "      <td>LEFT</td>\n",
       "      <td>MLO</td>\n",
       "      <td>1</td>\n",
       "      <td>mass</td>\n",
       "      <td>IRREGULAR</td>\n",
       "      <td>ILL_DEFINED</td>\n",
       "      <td>4</td>\n",
       "      <td>MALIGNANT</td>\n",
       "      <td>2</td>\n",
       "      <td>../CBIS-DDSM/jpeg/1.3.6.1.4.1.9590.100.1.2.413...</td>\n",
       "      <td>../CBIS-DDSM/jpeg/1.3.6.1.4.1.9590.100.1.2.358...</td>\n",
       "      <td>../CBIS-DDSM/jpeg/1.3.6.1.4.1.9590.100.1.2.358...</td>\n",
       "    </tr>\n",
       "    <tr>\n",
       "      <th>339</th>\n",
       "      <td>P_01912</td>\n",
       "      <td>3</td>\n",
       "      <td>RIGHT</td>\n",
       "      <td>CC</td>\n",
       "      <td>1</td>\n",
       "      <td>mass</td>\n",
       "      <td>IRREGULAR</td>\n",
       "      <td>SPICULATED</td>\n",
       "      <td>5</td>\n",
       "      <td>MALIGNANT</td>\n",
       "      <td>4</td>\n",
       "      <td>../CBIS-DDSM/jpeg/1.3.6.1.4.1.9590.100.1.2.395...</td>\n",
       "      <td>../CBIS-DDSM/jpeg/1.3.6.1.4.1.9590.100.1.2.299...</td>\n",
       "      <td>../CBIS-DDSM/jpeg/1.3.6.1.4.1.9590.100.1.2.299...</td>\n",
       "    </tr>\n",
       "    <tr>\n",
       "      <th>340</th>\n",
       "      <td>P_01912</td>\n",
       "      <td>3</td>\n",
       "      <td>RIGHT</td>\n",
       "      <td>MLO</td>\n",
       "      <td>1</td>\n",
       "      <td>mass</td>\n",
       "      <td>IRREGULAR</td>\n",
       "      <td>SPICULATED</td>\n",
       "      <td>5</td>\n",
       "      <td>MALIGNANT</td>\n",
       "      <td>4</td>\n",
       "      <td>../CBIS-DDSM/jpeg/1.3.6.1.4.1.9590.100.1.2.176...</td>\n",
       "      <td>../CBIS-DDSM/jpeg/1.3.6.1.4.1.9590.100.1.2.424...</td>\n",
       "      <td>../CBIS-DDSM/jpeg/1.3.6.1.4.1.9590.100.1.2.424...</td>\n",
       "    </tr>\n",
       "  </tbody>\n",
       "</table>\n",
       "<p>341 rows × 14 columns</p>\n",
       "</div>"
      ],
      "text/plain": [
       "    patient_id  breast_density left or right breast image view   \n",
       "0      P_00016               4                 LEFT         CC  \\\n",
       "1      P_00016               4                 LEFT        MLO   \n",
       "2      P_00017               2                 LEFT         CC   \n",
       "3      P_00017               2                 LEFT        MLO   \n",
       "4      P_00032               3                RIGHT         CC   \n",
       "..         ...             ...                  ...        ...   \n",
       "336    P_01815               3                RIGHT        MLO   \n",
       "337    P_01833               2                RIGHT        MLO   \n",
       "338    P_01865               2                 LEFT        MLO   \n",
       "339    P_01912               3                RIGHT         CC   \n",
       "340    P_01912               3                RIGHT        MLO   \n",
       "\n",
       "     abnormality id abnormality type mass shape   mass margins  assessment   \n",
       "0                 1             mass  IRREGULAR     SPICULATED           5  \\\n",
       "1                 1             mass  IRREGULAR     SPICULATED           5   \n",
       "2                 1             mass      ROUND  CIRCUMSCRIBED           4   \n",
       "3                 1             mass      ROUND    ILL_DEFINED           4   \n",
       "4                 1             mass      ROUND       OBSCURED           0   \n",
       "..              ...              ...        ...            ...         ...   \n",
       "336               1             mass  IRREGULAR    ILL_DEFINED           4   \n",
       "337               1             mass  IRREGULAR    ILL_DEFINED           5   \n",
       "338               1             mass  IRREGULAR    ILL_DEFINED           4   \n",
       "339               1             mass  IRREGULAR     SPICULATED           5   \n",
       "340               1             mass  IRREGULAR     SPICULATED           5   \n",
       "\n",
       "     pathology  subtlety                                    image file path   \n",
       "0    MALIGNANT         5  ../CBIS-DDSM/jpeg/1.3.6.1.4.1.9590.100.1.2.245...  \\\n",
       "1    MALIGNANT         5  ../CBIS-DDSM/jpeg/1.3.6.1.4.1.9590.100.1.2.859...   \n",
       "2    MALIGNANT         4  ../CBIS-DDSM/jpeg/1.3.6.1.4.1.9590.100.1.2.221...   \n",
       "3    MALIGNANT         4  ../CBIS-DDSM/jpeg/1.3.6.1.4.1.9590.100.1.2.239...   \n",
       "4       BENIGN         2  ../CBIS-DDSM/jpeg/1.3.6.1.4.1.9590.100.1.2.215...   \n",
       "..         ...       ...                                                ...   \n",
       "336  MALIGNANT         2  ../CBIS-DDSM/jpeg/1.3.6.1.4.1.9590.100.1.2.387...   \n",
       "337  MALIGNANT         5  ../CBIS-DDSM/jpeg/1.3.6.1.4.1.9590.100.1.2.355...   \n",
       "338  MALIGNANT         2  ../CBIS-DDSM/jpeg/1.3.6.1.4.1.9590.100.1.2.413...   \n",
       "339  MALIGNANT         4  ../CBIS-DDSM/jpeg/1.3.6.1.4.1.9590.100.1.2.395...   \n",
       "340  MALIGNANT         4  ../CBIS-DDSM/jpeg/1.3.6.1.4.1.9590.100.1.2.176...   \n",
       "\n",
       "                               cropped image file path   \n",
       "0    ../CBIS-DDSM/jpeg/1.3.6.1.4.1.9590.100.1.2.308...  \\\n",
       "1    ../CBIS-DDSM/jpeg/1.3.6.1.4.1.9590.100.1.2.381...   \n",
       "2    ../CBIS-DDSM/jpeg/1.3.6.1.4.1.9590.100.1.2.212...   \n",
       "3    ../CBIS-DDSM/jpeg/1.3.6.1.4.1.9590.100.1.2.154...   \n",
       "4    ../CBIS-DDSM/jpeg/1.3.6.1.4.1.9590.100.1.2.199...   \n",
       "..                                                 ...   \n",
       "336  ../CBIS-DDSM/jpeg/1.3.6.1.4.1.9590.100.1.2.348...   \n",
       "337  ../CBIS-DDSM/jpeg/1.3.6.1.4.1.9590.100.1.2.183...   \n",
       "338  ../CBIS-DDSM/jpeg/1.3.6.1.4.1.9590.100.1.2.358...   \n",
       "339  ../CBIS-DDSM/jpeg/1.3.6.1.4.1.9590.100.1.2.299...   \n",
       "340  ../CBIS-DDSM/jpeg/1.3.6.1.4.1.9590.100.1.2.424...   \n",
       "\n",
       "                                    ROI mask file path  \n",
       "0    ../CBIS-DDSM/jpeg/1.3.6.1.4.1.9590.100.1.2.308...  \n",
       "1    ../CBIS-DDSM/jpeg/1.3.6.1.4.1.9590.100.1.2.381...  \n",
       "2    ../CBIS-DDSM/jpeg/1.3.6.1.4.1.9590.100.1.2.212...  \n",
       "3    ../CBIS-DDSM/jpeg/1.3.6.1.4.1.9590.100.1.2.154...  \n",
       "4    ../CBIS-DDSM/jpeg/1.3.6.1.4.1.9590.100.1.2.199...  \n",
       "..                                                 ...  \n",
       "336  ../CBIS-DDSM/jpeg/1.3.6.1.4.1.9590.100.1.2.348...  \n",
       "337  ../CBIS-DDSM/jpeg/1.3.6.1.4.1.9590.100.1.2.183...  \n",
       "338  ../CBIS-DDSM/jpeg/1.3.6.1.4.1.9590.100.1.2.358...  \n",
       "339  ../CBIS-DDSM/jpeg/1.3.6.1.4.1.9590.100.1.2.299...  \n",
       "340  ../CBIS-DDSM/jpeg/1.3.6.1.4.1.9590.100.1.2.424...  \n",
       "\n",
       "[341 rows x 14 columns]"
      ]
     },
     "execution_count": 53,
     "metadata": {},
     "output_type": "execute_result"
    }
   ],
   "source": [
    "mass_test"
   ]
  },
  {
   "cell_type": "code",
   "execution_count": null,
   "id": "faa2be3c-ce0a-4a71-9337-90051dd344ab",
   "metadata": {},
   "outputs": [],
   "source": []
  }
 ],
 "metadata": {
  "kernelspec": {
   "display_name": "Python 3 (ipykernel)",
   "language": "python",
   "name": "python3"
  },
  "language_info": {
   "codemirror_mode": {
    "name": "ipython",
    "version": 3
   },
   "file_extension": ".py",
   "mimetype": "text/x-python",
   "name": "python",
   "nbconvert_exporter": "python",
   "pygments_lexer": "ipython3",
   "version": "3.10.11"
  }
 },
 "nbformat": 4,
 "nbformat_minor": 5
}
